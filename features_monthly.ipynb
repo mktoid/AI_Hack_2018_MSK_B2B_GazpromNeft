{
 "cells": [
  {
   "cell_type": "markdown",
   "metadata": {},
   "source": [
    "# Генерация помесячных фич на полных датасетах"
   ]
  },
  {
   "cell_type": "code",
   "execution_count": 1,
   "metadata": {
    "collapsed": true
   },
   "outputs": [],
   "source": [
    "import pandas as pd\n",
    "import numpy as np\n",
    "import gc"
   ]
  },
  {
   "cell_type": "code",
   "execution_count": 2,
   "metadata": {
    "collapsed": true
   },
   "outputs": [],
   "source": [
    "# предопределим типы колонок для экономии памяти\n",
    "dtypes = {\n",
    "    'ID': np.int32,\n",
    "    'CLIENT': np.int32,\n",
    "    'DATA_TRANS': str,\n",
    "    'AZS_NUMBER': np.int16,\n",
    "    'REGION_AZS': np.int16,\n",
    "    'VID_NP': np.int16,\n",
    "    'COL_LITR':  np.float32,\n",
    "    'CENA_CLIENT': np.float32\n",
    "    }"
   ]
  },
  {
   "cell_type": "code",
   "execution_count": 3,
   "metadata": {
    "collapsed": true
   },
   "outputs": [],
   "source": [
    "def date(s):\n",
    "    return s[3:10]"
   ]
  },
  {
   "cell_type": "code",
   "execution_count": 4,
   "metadata": {},
   "outputs": [
    {
     "name": "stdout",
     "output_type": "stream",
     "text": [
      "CPU times: user 1min 50s, sys: 6.24 s, total: 1min 57s\n",
      "Wall time: 1min 57s\n"
     ]
    }
   ],
   "source": [
    "%%time\n",
    "train = pd.read_csv('datasets/gpn_b2b/train_data.csv', dtype = dtypes)\n",
    "train['date'] = train['DATA_TRANS'].apply(date)\n",
    "train['client_date'] = train['CLIENT'].astype(str) + '_' + train['date'].astype(str)"
   ]
  },
  {
   "cell_type": "code",
   "execution_count": 5,
   "metadata": {},
   "outputs": [
    {
     "data": {
      "text/plain": [
       "21"
      ]
     },
     "execution_count": 5,
     "metadata": {},
     "output_type": "execute_result"
    }
   ],
   "source": [
    "train.drop(['ID','DATA_TRANS','VID_NP','AZS_NUMBER','REGION_AZS'], axis=1, inplace=True)\n",
    "gc.collect()"
   ]
  },
  {
   "cell_type": "code",
   "execution_count": 6,
   "metadata": {},
   "outputs": [
    {
     "data": {
      "text/html": [
       "<div>\n",
       "<style>\n",
       "    .dataframe thead tr:only-child th {\n",
       "        text-align: right;\n",
       "    }\n",
       "\n",
       "    .dataframe thead th {\n",
       "        text-align: left;\n",
       "    }\n",
       "\n",
       "    .dataframe tbody tr th {\n",
       "        vertical-align: top;\n",
       "    }\n",
       "</style>\n",
       "<table border=\"1\" class=\"dataframe\">\n",
       "  <thead>\n",
       "    <tr style=\"text-align: right;\">\n",
       "      <th></th>\n",
       "      <th>CLIENT</th>\n",
       "      <th>COL_LITR</th>\n",
       "      <th>CENA_CLIENT</th>\n",
       "      <th>date</th>\n",
       "      <th>client_date</th>\n",
       "    </tr>\n",
       "  </thead>\n",
       "  <tbody>\n",
       "    <tr>\n",
       "      <th>0</th>\n",
       "      <td>46219</td>\n",
       "      <td>15.000000</td>\n",
       "      <td>35.700001</td>\n",
       "      <td>11.2016</td>\n",
       "      <td>46219_11.2016</td>\n",
       "    </tr>\n",
       "    <tr>\n",
       "      <th>1</th>\n",
       "      <td>33792</td>\n",
       "      <td>30.000000</td>\n",
       "      <td>31.430000</td>\n",
       "      <td>11.2016</td>\n",
       "      <td>33792_11.2016</td>\n",
       "    </tr>\n",
       "    <tr>\n",
       "      <th>2</th>\n",
       "      <td>16215</td>\n",
       "      <td>220.000000</td>\n",
       "      <td>32.930000</td>\n",
       "      <td>11.2016</td>\n",
       "      <td>16215_11.2016</td>\n",
       "    </tr>\n",
       "    <tr>\n",
       "      <th>3</th>\n",
       "      <td>33792</td>\n",
       "      <td>15.000000</td>\n",
       "      <td>31.160000</td>\n",
       "      <td>11.2016</td>\n",
       "      <td>33792_11.2016</td>\n",
       "    </tr>\n",
       "    <tr>\n",
       "      <th>4</th>\n",
       "      <td>17075</td>\n",
       "      <td>133.669998</td>\n",
       "      <td>34.720001</td>\n",
       "      <td>11.2016</td>\n",
       "      <td>17075_11.2016</td>\n",
       "    </tr>\n",
       "  </tbody>\n",
       "</table>\n",
       "</div>"
      ],
      "text/plain": [
       "   CLIENT    COL_LITR  CENA_CLIENT     date    client_date\n",
       "0   46219   15.000000    35.700001  11.2016  46219_11.2016\n",
       "1   33792   30.000000    31.430000  11.2016  33792_11.2016\n",
       "2   16215  220.000000    32.930000  11.2016  16215_11.2016\n",
       "3   33792   15.000000    31.160000  11.2016  33792_11.2016\n",
       "4   17075  133.669998    34.720001  11.2016  17075_11.2016"
      ]
     },
     "execution_count": 6,
     "metadata": {},
     "output_type": "execute_result"
    }
   ],
   "source": [
    "train.head()"
   ]
  },
  {
   "cell_type": "code",
   "execution_count": 7,
   "metadata": {},
   "outputs": [
    {
     "name": "stdout",
     "output_type": "stream",
     "text": [
      "CPU times: user 9.66 s, sys: 464 ms, total: 10.1 s\n",
      "Wall time: 10.1 s\n"
     ]
    }
   ],
   "source": [
    "%%time\n",
    "test_full = pd.read_csv('datasets/gpn_b2b/full_test_data.csv', dtype = dtypes)"
   ]
  },
  {
   "cell_type": "code",
   "execution_count": 8,
   "metadata": {},
   "outputs": [
    {
     "name": "stdout",
     "output_type": "stream",
     "text": [
      "CPU times: user 41.1 s, sys: 2.7 s, total: 43.8 s\n",
      "Wall time: 43.8 s\n"
     ]
    }
   ],
   "source": [
    "%%time\n",
    "\n",
    "test_full['date'] = test_full['DATA_TRANS'].apply(date)\n",
    "test_full['client_date'] = test_full['CLIENT'].astype(str) + '_' + test_full['date'].astype(str)\n",
    "\n",
    "test_full['date'] = test_full['DATA_TRANS'].apply(date)\n",
    "test_full['client_date'] = test_full['CLIENT'].astype(str) + '_' + test_full['date'].astype(str)\n",
    "\n",
    "test_full.drop(['ID','DATA_TRANS','VID_NP','AZS_NUMBER','REGION_AZS'], axis=1, inplace=True)\n",
    "gc.collect()"
   ]
  },
  {
   "cell_type": "code",
   "execution_count": 9,
   "metadata": {},
   "outputs": [
    {
     "name": "stdout",
     "output_type": "stream",
     "text": [
      "CPU times: user 2.55 s, sys: 1.28 s, total: 3.84 s\n",
      "Wall time: 3.83 s\n"
     ]
    }
   ],
   "source": [
    "%%time\n",
    "\n",
    "dt=train.append(test_full)"
   ]
  },
  {
   "cell_type": "code",
   "execution_count": 10,
   "metadata": {},
   "outputs": [
    {
     "name": "stdout",
     "output_type": "stream",
     "text": [
      "CPU times: user 25.2 s, sys: 5.98 s, total: 31.1 s\n",
      "Wall time: 32 s\n"
     ]
    }
   ],
   "source": [
    "%%time\n",
    "# количество транзакций клиента\n",
    "\n",
    "\n",
    "dt = dt.merge(dt.groupby('client_date')['CENA_CLIENT'].count().reset_index(name = 'trans_count'), how = 'left')\n",
    "dt['trans_count'] = dt['trans_count'].astype(np.int32)"
   ]
  },
  {
   "cell_type": "code",
   "execution_count": 11,
   "metadata": {},
   "outputs": [
    {
     "name": "stdout",
     "output_type": "stream",
     "text": [
      "CPU times: user 12.8 s, sys: 4.9 s, total: 17.7 s\n",
      "Wall time: 17.9 s\n"
     ]
    }
   ],
   "source": [
    "%%time \n",
    "# медианный литраж по клиенту за всё время - т.к. в трейне литража нет\n",
    "\n",
    "dt = dt.merge(dt.groupby('CLIENT')['COL_LITR'].mean().reset_index(name = 'ltr_mean'), how = 'left')\n",
    "dt['ltr_mean'] = dt['ltr_mean']"
   ]
  },
  {
   "cell_type": "code",
   "execution_count": 13,
   "metadata": {},
   "outputs": [
    {
     "data": {
      "text/html": [
       "<div>\n",
       "<style>\n",
       "    .dataframe thead tr:only-child th {\n",
       "        text-align: right;\n",
       "    }\n",
       "\n",
       "    .dataframe thead th {\n",
       "        text-align: left;\n",
       "    }\n",
       "\n",
       "    .dataframe tbody tr th {\n",
       "        vertical-align: top;\n",
       "    }\n",
       "</style>\n",
       "<table border=\"1\" class=\"dataframe\">\n",
       "  <thead>\n",
       "    <tr style=\"text-align: right;\">\n",
       "      <th></th>\n",
       "      <th>CENA_CLIENT</th>\n",
       "      <th>CLIENT</th>\n",
       "      <th>COL_LITR</th>\n",
       "      <th>client_date</th>\n",
       "      <th>date</th>\n",
       "      <th>trans_count</th>\n",
       "      <th>ltr_mean</th>\n",
       "      <th>cena_mean</th>\n",
       "    </tr>\n",
       "  </thead>\n",
       "  <tbody>\n",
       "    <tr>\n",
       "      <th>31532826</th>\n",
       "      <td>36.570000</td>\n",
       "      <td>29853</td>\n",
       "      <td>30.000000</td>\n",
       "      <td>29853_12.2017</td>\n",
       "      <td>12.2017</td>\n",
       "      <td>9731</td>\n",
       "      <td>82.189316</td>\n",
       "      <td>36.648407</td>\n",
       "    </tr>\n",
       "    <tr>\n",
       "      <th>40482663</th>\n",
       "      <td>37.490002</td>\n",
       "      <td>23774</td>\n",
       "      <td>NaN</td>\n",
       "      <td>23774_03.2018</td>\n",
       "      <td>03.2018</td>\n",
       "      <td>1052</td>\n",
       "      <td>36.710041</td>\n",
       "      <td>38.795143</td>\n",
       "    </tr>\n",
       "    <tr>\n",
       "      <th>33746259</th>\n",
       "      <td>39.939999</td>\n",
       "      <td>34661</td>\n",
       "      <td>NaN</td>\n",
       "      <td>34661_01.2018</td>\n",
       "      <td>01.2018</td>\n",
       "      <td>327</td>\n",
       "      <td>77.211266</td>\n",
       "      <td>39.316727</td>\n",
       "    </tr>\n",
       "    <tr>\n",
       "      <th>22101066</th>\n",
       "      <td>32.490002</td>\n",
       "      <td>30834</td>\n",
       "      <td>20.000000</td>\n",
       "      <td>30834_09.2017</td>\n",
       "      <td>09.2017</td>\n",
       "      <td>763</td>\n",
       "      <td>25.993404</td>\n",
       "      <td>32.554195</td>\n",
       "    </tr>\n",
       "    <tr>\n",
       "      <th>12279881</th>\n",
       "      <td>34.220001</td>\n",
       "      <td>29931</td>\n",
       "      <td>150.000000</td>\n",
       "      <td>29931_05.2017</td>\n",
       "      <td>05.2017</td>\n",
       "      <td>313</td>\n",
       "      <td>129.415405</td>\n",
       "      <td>33.328148</td>\n",
       "    </tr>\n",
       "    <tr>\n",
       "      <th>1550610</th>\n",
       "      <td>32.090000</td>\n",
       "      <td>48596</td>\n",
       "      <td>50.000000</td>\n",
       "      <td>48596_12.2016</td>\n",
       "      <td>12.2016</td>\n",
       "      <td>2388</td>\n",
       "      <td>59.088768</td>\n",
       "      <td>33.327644</td>\n",
       "    </tr>\n",
       "    <tr>\n",
       "      <th>23750631</th>\n",
       "      <td>37.049999</td>\n",
       "      <td>42404</td>\n",
       "      <td>59.049999</td>\n",
       "      <td>42404_10.2017</td>\n",
       "      <td>10.2017</td>\n",
       "      <td>163</td>\n",
       "      <td>36.918709</td>\n",
       "      <td>37.151962</td>\n",
       "    </tr>\n",
       "    <tr>\n",
       "      <th>1771083</th>\n",
       "      <td>32.919998</td>\n",
       "      <td>48539</td>\n",
       "      <td>250.000000</td>\n",
       "      <td>48539_12.2016</td>\n",
       "      <td>12.2016</td>\n",
       "      <td>1622</td>\n",
       "      <td>304.112732</td>\n",
       "      <td>35.134098</td>\n",
       "    </tr>\n",
       "    <tr>\n",
       "      <th>1691250</th>\n",
       "      <td>29.889999</td>\n",
       "      <td>49036</td>\n",
       "      <td>100.000000</td>\n",
       "      <td>49036_12.2016</td>\n",
       "      <td>12.2016</td>\n",
       "      <td>216711</td>\n",
       "      <td>64.986610</td>\n",
       "      <td>29.841076</td>\n",
       "    </tr>\n",
       "    <tr>\n",
       "      <th>28740</th>\n",
       "      <td>28.260000</td>\n",
       "      <td>620</td>\n",
       "      <td>40.000000</td>\n",
       "      <td>620_11.2016</td>\n",
       "      <td>11.2016</td>\n",
       "      <td>6116</td>\n",
       "      <td>37.219879</td>\n",
       "      <td>30.766994</td>\n",
       "    </tr>\n",
       "  </tbody>\n",
       "</table>\n",
       "</div>"
      ],
      "text/plain": [
       "          CENA_CLIENT  CLIENT    COL_LITR    client_date     date  \\\n",
       "31532826    36.570000   29853   30.000000  29853_12.2017  12.2017   \n",
       "40482663    37.490002   23774         NaN  23774_03.2018  03.2018   \n",
       "33746259    39.939999   34661         NaN  34661_01.2018  01.2018   \n",
       "22101066    32.490002   30834   20.000000  30834_09.2017  09.2017   \n",
       "12279881    34.220001   29931  150.000000  29931_05.2017  05.2017   \n",
       "1550610     32.090000   48596   50.000000  48596_12.2016  12.2016   \n",
       "23750631    37.049999   42404   59.049999  42404_10.2017  10.2017   \n",
       "1771083     32.919998   48539  250.000000  48539_12.2016  12.2016   \n",
       "1691250     29.889999   49036  100.000000  49036_12.2016  12.2016   \n",
       "28740       28.260000     620   40.000000    620_11.2016  11.2016   \n",
       "\n",
       "          trans_count    ltr_mean  cena_mean  \n",
       "31532826         9731   82.189316  36.648407  \n",
       "40482663         1052   36.710041  38.795143  \n",
       "33746259          327   77.211266  39.316727  \n",
       "22101066          763   25.993404  32.554195  \n",
       "12279881          313  129.415405  33.328148  \n",
       "1550610          2388   59.088768  33.327644  \n",
       "23750631          163   36.918709  37.151962  \n",
       "1771083          1622  304.112732  35.134098  \n",
       "1691250        216711   64.986610  29.841076  \n",
       "28740            6116   37.219879  30.766994  "
      ]
     },
     "execution_count": 13,
     "metadata": {},
     "output_type": "execute_result"
    }
   ],
   "source": [
    "dt.sample(10)"
   ]
  },
  {
   "cell_type": "code",
   "execution_count": 15,
   "metadata": {},
   "outputs": [
    {
     "name": "stdout",
     "output_type": "stream",
     "text": [
      "CPU times: user 11.5 s, sys: 1.88 s, total: 13.4 s\n",
      "Wall time: 13.4 s\n"
     ]
    }
   ],
   "source": [
    "%%time\n",
    "\n",
    "dt[['client_date','trans_count','ltr_mean']].groupby('client_date').mean().to_csv('datasets/gpn_b2b/features_monthly.csv')"
   ]
  },
  {
   "cell_type": "code",
   "execution_count": null,
   "metadata": {
    "collapsed": true
   },
   "outputs": [],
   "source": [
    "# добавить колонку кол-во транзакций * медианный литраж, по ней добавить категорию клиента в месяце"
   ]
  },
  {
   "cell_type": "code",
   "execution_count": null,
   "metadata": {
    "collapsed": true
   },
   "outputs": [],
   "source": []
  }
 ],
 "metadata": {
  "kernelspec": {
   "display_name": "Python 3",
   "language": "python",
   "name": "python3"
  },
  "language_info": {
   "codemirror_mode": {
    "name": "ipython",
    "version": 3
   },
   "file_extension": ".py",
   "mimetype": "text/x-python",
   "name": "python",
   "nbconvert_exporter": "python",
   "pygments_lexer": "ipython3",
   "version": "3.6.3"
  }
 },
 "nbformat": 4,
 "nbformat_minor": 2
}
