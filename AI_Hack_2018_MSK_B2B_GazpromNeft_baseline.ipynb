{
 "cells": [
  {
   "cell_type": "markdown",
   "metadata": {},
   "source": [
    "# Хакатон AI.Hack Москва.\n",
    "## Газпром Нефть\n",
    "\n",
    "https://www.kaggle.com/c/ai-hack-2018-msk-gpn/leaderboard"
   ]
  },
  {
   "cell_type": "code",
   "execution_count": 1,
   "metadata": {
    "collapsed": true
   },
   "outputs": [],
   "source": [
    "import pandas as pd\n",
    "import numpy as np\n",
    "import gc"
   ]
  },
  {
   "cell_type": "code",
   "execution_count": 2,
   "metadata": {
    "collapsed": true
   },
   "outputs": [],
   "source": [
    "# предопределим типы колонок для экономии памяти\n",
    "dtypes = {\n",
    "    'ID': np.int32,\n",
    "    'CLIENT': np.int32,\n",
    "    'DATA_TRANS': str,\n",
    "    'AZS_NUMBER': np.int16,\n",
    "    'REGION_AZS': np.int16,\n",
    "    'VID_NP': np.int16,\n",
    "    'COL_LITR':  np.float32,\n",
    "    'CENA_CLIENT': np.float32\n",
    "    }"
   ]
  },
  {
   "cell_type": "code",
   "execution_count": 3,
   "metadata": {
    "collapsed": true
   },
   "outputs": [],
   "source": [
    "train = pd.read_csv('datasets/gpn_b2b/train_data.csv', dtype = dtypes)"
   ]
  },
  {
   "cell_type": "code",
   "execution_count": 4,
   "metadata": {
    "collapsed": true,
    "scrolled": true
   },
   "outputs": [],
   "source": [
    "test = pd.read_csv('datasets/gpn_b2b/test_data.csv', dtype = dtypes)"
   ]
  },
  {
   "cell_type": "code",
   "execution_count": 5,
   "metadata": {
    "collapsed": true
   },
   "outputs": [],
   "source": [
    "def month(s): #для обучения сезонности\n",
    "    return int(s[3:5])\n",
    "\n",
    "def year(s):\n",
    "    return int(s[8:10])\n",
    "\n",
    "def date(s): #для пристегивания фич\n",
    "    return s[3:10]"
   ]
  },
  {
   "cell_type": "code",
   "execution_count": 6,
   "metadata": {},
   "outputs": [
    {
     "name": "stdout",
     "output_type": "stream",
     "text": [
      "CPU times: user 25.7 s, sys: 1.01 s, total: 26.7 s\n",
      "Wall time: 26.6 s\n"
     ]
    }
   ],
   "source": [
    "%%time\n",
    "\n",
    "train['month'] = train['DATA_TRANS'].apply(month).astype(float)\n",
    "\n",
    "test['month'] = test['DATA_TRANS'].apply(month).astype(float)"
   ]
  },
  {
   "cell_type": "code",
   "execution_count": 7,
   "metadata": {
    "collapsed": true
   },
   "outputs": [],
   "source": [
    "train_sel = train  # catboost не хватало оперативы и использовал только часть, удалено, т.к. lightgbm показал себя на этих данных лучше"
   ]
  },
  {
   "cell_type": "code",
   "execution_count": 8,
   "metadata": {},
   "outputs": [
    {
     "name": "stdout",
     "output_type": "stream",
     "text": [
      "CPU times: user 49.6 s, sys: 51.2 ms, total: 49.7 s\n",
      "Wall time: 49.7 s\n"
     ]
    }
   ],
   "source": [
    "%%time\n",
    "\n",
    "features = pd.read_csv('datasets/gpn_b2b/features_monthly.csv') # сгенерировано с полным тестом в features_monthly.ipynb\n",
    "\n",
    "trans_count_d = {} # немножко покешируем т.к. вытаскивание из датафрейма медленнее\n",
    "ltr_mean_d = {}\n",
    "\n",
    "for index, row in features.iterrows():\n",
    "    trans_count_d[row['client_date']] = row['trans_count']\n",
    "    ltr_mean_d[row['client_date']] = row['ltr_mean']\n",
    "\n",
    "def trans_count(c):\n",
    "    try:\n",
    "        return trans_count_d[c]\n",
    "    except:\n",
    "        return np.nan\n",
    "\n",
    "def ltr_mean(c):\n",
    "    try:\n",
    "        return ltr_mean_d[c]\n",
    "    except:\n",
    "        return np.nan"
   ]
  },
  {
   "cell_type": "code",
   "execution_count": 10,
   "metadata": {},
   "outputs": [
    {
     "name": "stdout",
     "output_type": "stream",
     "text": [
      "CPU times: user 2min, sys: 6.56 s, total: 2min 7s\n",
      "Wall time: 2min 7s\n"
     ]
    }
   ],
   "source": [
    "%%time\n",
    "\n",
    "train_sel['date'] = train_sel['DATA_TRANS'].apply(date)\n",
    "train_sel['client_date'] = train_sel['CLIENT'].astype(str) + '_' + train_sel['date'].astype(str)\n",
    "train_sel['trans_count'] = train_sel['client_date'].apply(trans_count).astype(float)\n",
    "train_sel['ltr_mean'] = train_sel['client_date'].apply(ltr_mean).astype(float)\n",
    "\n",
    "test['date'] = test['DATA_TRANS'].apply(date)\n",
    "test['client_date'] = test['CLIENT'].astype(str) + '_' + test['date'].astype(str)\n",
    "test['trans_count'] = test['client_date'].apply(trans_count).astype(float)\n",
    "test['ltr_mean'] = test['client_date'].apply(ltr_mean).astype(float)"
   ]
  },
  {
   "cell_type": "code",
   "execution_count": 12,
   "metadata": {},
   "outputs": [
    {
     "name": "stdout",
     "output_type": "stream",
     "text": [
      "CPU times: user 45.7 s, sys: 4.14 s, total: 49.9 s\n",
      "Wall time: 49.7 s\n"
     ]
    }
   ],
   "source": [
    "%%time\n",
    "\n",
    "# фичи про оценку размера бизнеса\n",
    "# до 40 000 литров/месяц – массовый;\n",
    "# от 40 000 до 150 000 литров/месяц – средний;\n",
    "# от 150 000 литров/месяц – крупный;\n",
    "\n",
    "train_sel['biz_estimated_ltr'] = train_sel['trans_count'] * train_sel['ltr_mean']\n",
    "train_sel['biz_mass'] = train_sel['biz_estimated_ltr'].apply(lambda x: 1 if x <= 40000 else 0).astype(np.int16)\n",
    "train_sel['biz_mid'] = train_sel['biz_estimated_ltr'].apply(lambda x: 1 if x > 40000 and x <= 150000 else 0).astype(np.int16)\n",
    "train_sel['biz_big'] = train_sel['biz_estimated_ltr'].apply(lambda x: 1 if x > 150000 else 0).astype(np.int16)\n",
    "\n",
    "\n",
    "test['biz_estimated_ltr'] = test['trans_count'] * test['ltr_mean']\n",
    "test['biz_mass'] = test['biz_estimated_ltr'].apply(lambda x: 1 if x <= 40000 else 0).astype(np.int16)\n",
    "test['biz_mid'] = test['biz_estimated_ltr'].apply(lambda x: 1 if x > 40000 and x <= 150000 else 0).astype(np.int16)\n",
    "test['biz_big'] = test['biz_estimated_ltr'].apply(lambda x: 1 if x > 150000 else 0).astype(np.int16)"
   ]
  },
  {
   "cell_type": "code",
   "execution_count": 13,
   "metadata": {},
   "outputs": [
    {
     "data": {
      "text/html": [
       "<div>\n",
       "<style>\n",
       "    .dataframe thead tr:only-child th {\n",
       "        text-align: right;\n",
       "    }\n",
       "\n",
       "    .dataframe thead th {\n",
       "        text-align: left;\n",
       "    }\n",
       "\n",
       "    .dataframe tbody tr th {\n",
       "        vertical-align: top;\n",
       "    }\n",
       "</style>\n",
       "<table border=\"1\" class=\"dataframe\">\n",
       "  <thead>\n",
       "    <tr style=\"text-align: right;\">\n",
       "      <th></th>\n",
       "      <th>ID</th>\n",
       "      <th>CLIENT</th>\n",
       "      <th>DATA_TRANS</th>\n",
       "      <th>AZS_NUMBER</th>\n",
       "      <th>REGION_AZS</th>\n",
       "      <th>VID_NP</th>\n",
       "      <th>COL_LITR</th>\n",
       "      <th>CENA_CLIENT</th>\n",
       "      <th>month</th>\n",
       "      <th>date</th>\n",
       "      <th>client_date</th>\n",
       "      <th>trans_count</th>\n",
       "      <th>ltr_mean</th>\n",
       "      <th>trans_all</th>\n",
       "      <th>biz_estimated_ltr</th>\n",
       "      <th>biz_mass</th>\n",
       "      <th>biz_mid</th>\n",
       "      <th>biz_big</th>\n",
       "    </tr>\n",
       "  </thead>\n",
       "  <tbody>\n",
       "    <tr>\n",
       "      <th>2760147</th>\n",
       "      <td>2760147</td>\n",
       "      <td>33792</td>\n",
       "      <td>23.12.2016 12:55:31</td>\n",
       "      <td>3353</td>\n",
       "      <td>18</td>\n",
       "      <td>1</td>\n",
       "      <td>16.65</td>\n",
       "      <td>34.639999</td>\n",
       "      <td>12.0</td>\n",
       "      <td>12.2016</td>\n",
       "      <td>33792_12.2016</td>\n",
       "      <td>6162.0</td>\n",
       "      <td>60.073219</td>\n",
       "      <td>NaN</td>\n",
       "      <td>3.701712e+05</td>\n",
       "      <td>0</td>\n",
       "      <td>0</td>\n",
       "      <td>1</td>\n",
       "    </tr>\n",
       "    <tr>\n",
       "      <th>8612596</th>\n",
       "      <td>8612596</td>\n",
       "      <td>42854</td>\n",
       "      <td>02.04.2017 7:52:16</td>\n",
       "      <td>2393</td>\n",
       "      <td>2</td>\n",
       "      <td>1</td>\n",
       "      <td>36.77</td>\n",
       "      <td>33.860001</td>\n",
       "      <td>4.0</td>\n",
       "      <td>04.2017</td>\n",
       "      <td>42854_04.2017</td>\n",
       "      <td>28108.0</td>\n",
       "      <td>48.110050</td>\n",
       "      <td>NaN</td>\n",
       "      <td>1.352277e+06</td>\n",
       "      <td>0</td>\n",
       "      <td>0</td>\n",
       "      <td>1</td>\n",
       "    </tr>\n",
       "    <tr>\n",
       "      <th>14830952</th>\n",
       "      <td>14830952</td>\n",
       "      <td>50442</td>\n",
       "      <td>04.07.2017 9:58:13</td>\n",
       "      <td>1335</td>\n",
       "      <td>20</td>\n",
       "      <td>2</td>\n",
       "      <td>30.00</td>\n",
       "      <td>33.430000</td>\n",
       "      <td>7.0</td>\n",
       "      <td>07.2017</td>\n",
       "      <td>50442_07.2017</td>\n",
       "      <td>3597.0</td>\n",
       "      <td>38.097996</td>\n",
       "      <td>NaN</td>\n",
       "      <td>1.370385e+05</td>\n",
       "      <td>0</td>\n",
       "      <td>1</td>\n",
       "      <td>0</td>\n",
       "    </tr>\n",
       "    <tr>\n",
       "      <th>3196077</th>\n",
       "      <td>3196077</td>\n",
       "      <td>22450</td>\n",
       "      <td>30.12.2016 8:34:21</td>\n",
       "      <td>3556</td>\n",
       "      <td>19</td>\n",
       "      <td>2</td>\n",
       "      <td>40.00</td>\n",
       "      <td>33.849998</td>\n",
       "      <td>12.0</td>\n",
       "      <td>12.2016</td>\n",
       "      <td>22450_12.2016</td>\n",
       "      <td>357.0</td>\n",
       "      <td>30.638523</td>\n",
       "      <td>NaN</td>\n",
       "      <td>1.093795e+04</td>\n",
       "      <td>1</td>\n",
       "      <td>0</td>\n",
       "      <td>0</td>\n",
       "    </tr>\n",
       "    <tr>\n",
       "      <th>3292617</th>\n",
       "      <td>3292617</td>\n",
       "      <td>15335</td>\n",
       "      <td>20.12.2016 7:20:08</td>\n",
       "      <td>3377</td>\n",
       "      <td>18</td>\n",
       "      <td>2</td>\n",
       "      <td>30.00</td>\n",
       "      <td>31.260000</td>\n",
       "      <td>12.0</td>\n",
       "      <td>12.2016</td>\n",
       "      <td>15335_12.2016</td>\n",
       "      <td>2398.0</td>\n",
       "      <td>72.672676</td>\n",
       "      <td>NaN</td>\n",
       "      <td>1.742691e+05</td>\n",
       "      <td>0</td>\n",
       "      <td>0</td>\n",
       "      <td>1</td>\n",
       "    </tr>\n",
       "  </tbody>\n",
       "</table>\n",
       "</div>"
      ],
      "text/plain": [
       "                ID  CLIENT           DATA_TRANS  AZS_NUMBER  REGION_AZS  \\\n",
       "2760147    2760147   33792  23.12.2016 12:55:31        3353          18   \n",
       "8612596    8612596   42854   02.04.2017 7:52:16        2393           2   \n",
       "14830952  14830952   50442   04.07.2017 9:58:13        1335          20   \n",
       "3196077    3196077   22450   30.12.2016 8:34:21        3556          19   \n",
       "3292617    3292617   15335   20.12.2016 7:20:08        3377          18   \n",
       "\n",
       "          VID_NP  COL_LITR  CENA_CLIENT  month     date    client_date  \\\n",
       "2760147        1     16.65    34.639999   12.0  12.2016  33792_12.2016   \n",
       "8612596        1     36.77    33.860001    4.0  04.2017  42854_04.2017   \n",
       "14830952       2     30.00    33.430000    7.0  07.2017  50442_07.2017   \n",
       "3196077        2     40.00    33.849998   12.0  12.2016  22450_12.2016   \n",
       "3292617        2     30.00    31.260000   12.0  12.2016  15335_12.2016   \n",
       "\n",
       "          trans_count   ltr_mean  trans_all  biz_estimated_ltr  biz_mass  \\\n",
       "2760147        6162.0  60.073219        NaN       3.701712e+05         0   \n",
       "8612596       28108.0  48.110050        NaN       1.352277e+06         0   \n",
       "14830952       3597.0  38.097996        NaN       1.370385e+05         0   \n",
       "3196077         357.0  30.638523        NaN       1.093795e+04         1   \n",
       "3292617        2398.0  72.672676        NaN       1.742691e+05         0   \n",
       "\n",
       "          biz_mid  biz_big  \n",
       "2760147         0        1  \n",
       "8612596         0        1  \n",
       "14830952        1        0  \n",
       "3196077         0        0  \n",
       "3292617         0        1  "
      ]
     },
     "execution_count": 13,
     "metadata": {},
     "output_type": "execute_result"
    }
   ],
   "source": [
    "train_sel.sample(5)"
   ]
  },
  {
   "cell_type": "code",
   "execution_count": 14,
   "metadata": {},
   "outputs": [
    {
     "data": {
      "text/html": [
       "<div>\n",
       "<style>\n",
       "    .dataframe thead tr:only-child th {\n",
       "        text-align: right;\n",
       "    }\n",
       "\n",
       "    .dataframe thead th {\n",
       "        text-align: left;\n",
       "    }\n",
       "\n",
       "    .dataframe tbody tr th {\n",
       "        vertical-align: top;\n",
       "    }\n",
       "</style>\n",
       "<table border=\"1\" class=\"dataframe\">\n",
       "  <thead>\n",
       "    <tr style=\"text-align: right;\">\n",
       "      <th></th>\n",
       "      <th>ID</th>\n",
       "      <th>CLIENT</th>\n",
       "      <th>DATA_TRANS</th>\n",
       "      <th>AZS_NUMBER</th>\n",
       "      <th>REGION_AZS</th>\n",
       "      <th>VID_NP</th>\n",
       "      <th>CENA_CLIENT</th>\n",
       "      <th>month</th>\n",
       "      <th>date</th>\n",
       "      <th>client_date</th>\n",
       "      <th>trans_count</th>\n",
       "      <th>ltr_mean</th>\n",
       "      <th>trans_all</th>\n",
       "      <th>biz_estimated_ltr</th>\n",
       "      <th>biz_mass</th>\n",
       "      <th>biz_mid</th>\n",
       "      <th>biz_big</th>\n",
       "    </tr>\n",
       "  </thead>\n",
       "  <tbody>\n",
       "    <tr>\n",
       "      <th>200699</th>\n",
       "      <td>200699</td>\n",
       "      <td>31048</td>\n",
       "      <td>04.02.2018 18:27:14</td>\n",
       "      <td>1360</td>\n",
       "      <td>6</td>\n",
       "      <td>1</td>\n",
       "      <td>39.599998</td>\n",
       "      <td>2.0</td>\n",
       "      <td>02.2018</td>\n",
       "      <td>31048_02.2018</td>\n",
       "      <td>53.0</td>\n",
       "      <td>42.152775</td>\n",
       "      <td>NaN</td>\n",
       "      <td>2.234097e+03</td>\n",
       "      <td>1</td>\n",
       "      <td>0</td>\n",
       "      <td>0</td>\n",
       "    </tr>\n",
       "    <tr>\n",
       "      <th>527777</th>\n",
       "      <td>527777</td>\n",
       "      <td>49872</td>\n",
       "      <td>11.01.2018 11:30:19</td>\n",
       "      <td>1467</td>\n",
       "      <td>12</td>\n",
       "      <td>2</td>\n",
       "      <td>39.799999</td>\n",
       "      <td>1.0</td>\n",
       "      <td>01.2018</td>\n",
       "      <td>49872_01.2018</td>\n",
       "      <td>7.0</td>\n",
       "      <td>27.686567</td>\n",
       "      <td>NaN</td>\n",
       "      <td>1.938060e+02</td>\n",
       "      <td>1</td>\n",
       "      <td>0</td>\n",
       "      <td>0</td>\n",
       "    </tr>\n",
       "    <tr>\n",
       "      <th>3644</th>\n",
       "      <td>3644</td>\n",
       "      <td>34650</td>\n",
       "      <td>14.03.2018 12:02:59</td>\n",
       "      <td>886</td>\n",
       "      <td>4</td>\n",
       "      <td>1</td>\n",
       "      <td>38.599998</td>\n",
       "      <td>3.0</td>\n",
       "      <td>03.2018</td>\n",
       "      <td>34650_03.2018</td>\n",
       "      <td>110.0</td>\n",
       "      <td>109.624512</td>\n",
       "      <td>NaN</td>\n",
       "      <td>1.205870e+04</td>\n",
       "      <td>1</td>\n",
       "      <td>0</td>\n",
       "      <td>0</td>\n",
       "    </tr>\n",
       "    <tr>\n",
       "      <th>450523</th>\n",
       "      <td>450523</td>\n",
       "      <td>4540</td>\n",
       "      <td>21.02.2018 17:58:09</td>\n",
       "      <td>904</td>\n",
       "      <td>20</td>\n",
       "      <td>2</td>\n",
       "      <td>38.509998</td>\n",
       "      <td>2.0</td>\n",
       "      <td>02.2018</td>\n",
       "      <td>4540_02.2018</td>\n",
       "      <td>377.0</td>\n",
       "      <td>42.802525</td>\n",
       "      <td>NaN</td>\n",
       "      <td>1.613655e+04</td>\n",
       "      <td>1</td>\n",
       "      <td>0</td>\n",
       "      <td>0</td>\n",
       "    </tr>\n",
       "    <tr>\n",
       "      <th>271904</th>\n",
       "      <td>271904</td>\n",
       "      <td>24550</td>\n",
       "      <td>06.01.2018 20:43:41</td>\n",
       "      <td>5087</td>\n",
       "      <td>24</td>\n",
       "      <td>1</td>\n",
       "      <td>37.230000</td>\n",
       "      <td>1.0</td>\n",
       "      <td>01.2018</td>\n",
       "      <td>24550_01.2018</td>\n",
       "      <td>58531.0</td>\n",
       "      <td>35.132069</td>\n",
       "      <td>NaN</td>\n",
       "      <td>2.056315e+06</td>\n",
       "      <td>0</td>\n",
       "      <td>0</td>\n",
       "      <td>1</td>\n",
       "    </tr>\n",
       "  </tbody>\n",
       "</table>\n",
       "</div>"
      ],
      "text/plain": [
       "            ID  CLIENT           DATA_TRANS  AZS_NUMBER  REGION_AZS  VID_NP  \\\n",
       "200699  200699   31048  04.02.2018 18:27:14        1360           6       1   \n",
       "527777  527777   49872  11.01.2018 11:30:19        1467          12       2   \n",
       "3644      3644   34650  14.03.2018 12:02:59         886           4       1   \n",
       "450523  450523    4540  21.02.2018 17:58:09         904          20       2   \n",
       "271904  271904   24550  06.01.2018 20:43:41        5087          24       1   \n",
       "\n",
       "        CENA_CLIENT  month     date    client_date  trans_count    ltr_mean  \\\n",
       "200699    39.599998    2.0  02.2018  31048_02.2018         53.0   42.152775   \n",
       "527777    39.799999    1.0  01.2018  49872_01.2018          7.0   27.686567   \n",
       "3644      38.599998    3.0  03.2018  34650_03.2018        110.0  109.624512   \n",
       "450523    38.509998    2.0  02.2018   4540_02.2018        377.0   42.802525   \n",
       "271904    37.230000    1.0  01.2018  24550_01.2018      58531.0   35.132069   \n",
       "\n",
       "        trans_all  biz_estimated_ltr  biz_mass  biz_mid  biz_big  \n",
       "200699        NaN       2.234097e+03         1        0        0  \n",
       "527777        NaN       1.938060e+02         1        0        0  \n",
       "3644          NaN       1.205870e+04         1        0        0  \n",
       "450523        NaN       1.613655e+04         1        0        0  \n",
       "271904        NaN       2.056315e+06         0        0        1  "
      ]
     },
     "execution_count": 14,
     "metadata": {},
     "output_type": "execute_result"
    }
   ],
   "source": [
    "test.sample(5)"
   ]
  },
  {
   "cell_type": "code",
   "execution_count": 15,
   "metadata": {
    "collapsed": true
   },
   "outputs": [],
   "source": [
    "cols = ['CLIENT','AZS_NUMBER','REGION_AZS','VID_NP','CENA_CLIENT','month','trans_count','biz_estimated_ltr','ltr_mean']"
   ]
  },
  {
   "cell_type": "code",
   "execution_count": 16,
   "metadata": {},
   "outputs": [
    {
     "data": {
      "text/plain": [
       "451"
      ]
     },
     "execution_count": 16,
     "metadata": {},
     "output_type": "execute_result"
    }
   ],
   "source": [
    "X_train = train_sel[cols]\n",
    "y = train_sel['COL_LITR']\n",
    "X_test = test[cols]\n",
    "\n",
    "del train, train_sel, test\n",
    "gc.collect() "
   ]
  },
  {
   "cell_type": "code",
   "execution_count": 17,
   "metadata": {
    "collapsed": true
   },
   "outputs": [],
   "source": [
    "import lightgbm"
   ]
  },
  {
   "cell_type": "code",
   "execution_count": 51,
   "metadata": {},
   "outputs": [
    {
     "name": "stdout",
     "output_type": "stream",
     "text": [
      "CPU times: user 6min 6s, sys: 8.82 s, total: 6min 15s\n",
      "Wall time: 1min 58s\n"
     ]
    }
   ],
   "source": [
    "%%time\n",
    "\n",
    "ctb = lightgbm.LGBMRegressor(n_estimators=48)\n",
    "ctb.fit(X_train, y)"
   ]
  },
  {
   "cell_type": "code",
   "execution_count": 52,
   "metadata": {},
   "outputs": [
    {
     "data": {
      "text/plain": [
       "LGBMRegressor(boosting_type='gbdt', class_weight=None, colsample_bytree=1.0,\n",
       "       learning_rate=0.1, max_depth=-1, min_child_samples=20,\n",
       "       min_child_weight=0.001, min_split_gain=0.0, n_estimators=48,\n",
       "       n_jobs=-1, num_leaves=31, objective=None, random_state=None,\n",
       "       reg_alpha=0.0, reg_lambda=0.0, silent=True, subsample=1.0,\n",
       "       subsample_for_bin=200000, subsample_freq=1)"
      ]
     },
     "execution_count": 52,
     "metadata": {},
     "output_type": "execute_result"
    }
   ],
   "source": [
    "ctb"
   ]
  },
  {
   "cell_type": "code",
   "execution_count": 53,
   "metadata": {},
   "outputs": [
    {
     "data": {
      "text/html": [
       "<div>\n",
       "<style>\n",
       "    .dataframe thead tr:only-child th {\n",
       "        text-align: right;\n",
       "    }\n",
       "\n",
       "    .dataframe thead th {\n",
       "        text-align: left;\n",
       "    }\n",
       "\n",
       "    .dataframe tbody tr th {\n",
       "        vertical-align: top;\n",
       "    }\n",
       "</style>\n",
       "<table border=\"1\" class=\"dataframe\">\n",
       "  <thead>\n",
       "    <tr style=\"text-align: right;\">\n",
       "      <th></th>\n",
       "      <th>0</th>\n",
       "    </tr>\n",
       "  </thead>\n",
       "  <tbody>\n",
       "    <tr>\n",
       "      <th>49</th>\n",
       "      <td>CLIENT</td>\n",
       "    </tr>\n",
       "    <tr>\n",
       "      <th>376</th>\n",
       "      <td>AZS_NUMBER</td>\n",
       "    </tr>\n",
       "    <tr>\n",
       "      <th>318</th>\n",
       "      <td>REGION_AZS</td>\n",
       "    </tr>\n",
       "    <tr>\n",
       "      <th>96</th>\n",
       "      <td>VID_NP</td>\n",
       "    </tr>\n",
       "    <tr>\n",
       "      <th>102</th>\n",
       "      <td>CENA_CLIENT</td>\n",
       "    </tr>\n",
       "    <tr>\n",
       "      <th>7</th>\n",
       "      <td>month</td>\n",
       "    </tr>\n",
       "    <tr>\n",
       "      <th>74</th>\n",
       "      <td>trans_count</td>\n",
       "    </tr>\n",
       "    <tr>\n",
       "      <th>108</th>\n",
       "      <td>biz_estimated_ltr</td>\n",
       "    </tr>\n",
       "    <tr>\n",
       "      <th>310</th>\n",
       "      <td>ltr_mean</td>\n",
       "    </tr>\n",
       "    <tr>\n",
       "      <th>0</th>\n",
       "      <td>trans_all</td>\n",
       "    </tr>\n",
       "  </tbody>\n",
       "</table>\n",
       "</div>"
      ],
      "text/plain": [
       "                     0\n",
       "49              CLIENT\n",
       "376         AZS_NUMBER\n",
       "318         REGION_AZS\n",
       "96              VID_NP\n",
       "102        CENA_CLIENT\n",
       "7                month\n",
       "74         trans_count\n",
       "108  biz_estimated_ltr\n",
       "310           ltr_mean\n",
       "0            trans_all"
      ]
     },
     "execution_count": 53,
     "metadata": {},
     "output_type": "execute_result"
    }
   ],
   "source": [
    "pd.DataFrame(X_train.columns, ctb.feature_importances_)"
   ]
  },
  {
   "cell_type": "code",
   "execution_count": 54,
   "metadata": {
    "collapsed": true
   },
   "outputs": [],
   "source": [
    "y_test = ctb.predict(X_test)"
   ]
  },
  {
   "cell_type": "code",
   "execution_count": 55,
   "metadata": {},
   "outputs": [
    {
     "data": {
      "text/plain": [
       "(1000000,)"
      ]
     },
     "execution_count": 55,
     "metadata": {},
     "output_type": "execute_result"
    }
   ],
   "source": [
    "y_test.shape"
   ]
  },
  {
   "cell_type": "code",
   "execution_count": 56,
   "metadata": {},
   "outputs": [
    {
     "data": {
      "text/plain": [
       "(1000000, 10)"
      ]
     },
     "execution_count": 56,
     "metadata": {},
     "output_type": "execute_result"
    }
   ],
   "source": [
    "X_test.shape"
   ]
  },
  {
   "cell_type": "code",
   "execution_count": 57,
   "metadata": {
    "collapsed": true
   },
   "outputs": [],
   "source": [
    "sample_submission = pd.read_csv('datasets/gpn_b2b/sample_submission.csv')"
   ]
  },
  {
   "cell_type": "code",
   "execution_count": 58,
   "metadata": {},
   "outputs": [
    {
     "data": {
      "text/html": [
       "<div>\n",
       "<style>\n",
       "    .dataframe thead tr:only-child th {\n",
       "        text-align: right;\n",
       "    }\n",
       "\n",
       "    .dataframe thead th {\n",
       "        text-align: left;\n",
       "    }\n",
       "\n",
       "    .dataframe tbody tr th {\n",
       "        vertical-align: top;\n",
       "    }\n",
       "</style>\n",
       "<table border=\"1\" class=\"dataframe\">\n",
       "  <thead>\n",
       "    <tr style=\"text-align: right;\">\n",
       "      <th></th>\n",
       "      <th>ID</th>\n",
       "      <th>COL_LITR</th>\n",
       "    </tr>\n",
       "  </thead>\n",
       "  <tbody>\n",
       "    <tr>\n",
       "      <th>999995</th>\n",
       "      <td>999995</td>\n",
       "      <td>0.0</td>\n",
       "    </tr>\n",
       "    <tr>\n",
       "      <th>999996</th>\n",
       "      <td>999996</td>\n",
       "      <td>0.0</td>\n",
       "    </tr>\n",
       "    <tr>\n",
       "      <th>999997</th>\n",
       "      <td>999997</td>\n",
       "      <td>0.0</td>\n",
       "    </tr>\n",
       "    <tr>\n",
       "      <th>999998</th>\n",
       "      <td>999998</td>\n",
       "      <td>0.0</td>\n",
       "    </tr>\n",
       "    <tr>\n",
       "      <th>999999</th>\n",
       "      <td>999999</td>\n",
       "      <td>0.0</td>\n",
       "    </tr>\n",
       "  </tbody>\n",
       "</table>\n",
       "</div>"
      ],
      "text/plain": [
       "            ID  COL_LITR\n",
       "999995  999995       0.0\n",
       "999996  999996       0.0\n",
       "999997  999997       0.0\n",
       "999998  999998       0.0\n",
       "999999  999999       0.0"
      ]
     },
     "execution_count": 58,
     "metadata": {},
     "output_type": "execute_result"
    }
   ],
   "source": [
    "sample_submission.tail()"
   ]
  },
  {
   "cell_type": "code",
   "execution_count": 59,
   "metadata": {
    "collapsed": true
   },
   "outputs": [],
   "source": [
    "sample_submission['COL_LITR'] = y_test"
   ]
  },
  {
   "cell_type": "code",
   "execution_count": 60,
   "metadata": {},
   "outputs": [
    {
     "data": {
      "text/html": [
       "<div>\n",
       "<style>\n",
       "    .dataframe thead tr:only-child th {\n",
       "        text-align: right;\n",
       "    }\n",
       "\n",
       "    .dataframe thead th {\n",
       "        text-align: left;\n",
       "    }\n",
       "\n",
       "    .dataframe tbody tr th {\n",
       "        vertical-align: top;\n",
       "    }\n",
       "</style>\n",
       "<table border=\"1\" class=\"dataframe\">\n",
       "  <thead>\n",
       "    <tr style=\"text-align: right;\">\n",
       "      <th></th>\n",
       "      <th>ID</th>\n",
       "      <th>COL_LITR</th>\n",
       "    </tr>\n",
       "  </thead>\n",
       "  <tbody>\n",
       "    <tr>\n",
       "      <th>999995</th>\n",
       "      <td>999995</td>\n",
       "      <td>152.915393</td>\n",
       "    </tr>\n",
       "    <tr>\n",
       "      <th>999996</th>\n",
       "      <td>999996</td>\n",
       "      <td>168.871750</td>\n",
       "    </tr>\n",
       "    <tr>\n",
       "      <th>999997</th>\n",
       "      <td>999997</td>\n",
       "      <td>339.140611</td>\n",
       "    </tr>\n",
       "    <tr>\n",
       "      <th>999998</th>\n",
       "      <td>999998</td>\n",
       "      <td>40.482968</td>\n",
       "    </tr>\n",
       "    <tr>\n",
       "      <th>999999</th>\n",
       "      <td>999999</td>\n",
       "      <td>34.753451</td>\n",
       "    </tr>\n",
       "  </tbody>\n",
       "</table>\n",
       "</div>"
      ],
      "text/plain": [
       "            ID    COL_LITR\n",
       "999995  999995  152.915393\n",
       "999996  999996  168.871750\n",
       "999997  999997  339.140611\n",
       "999998  999998   40.482968\n",
       "999999  999999   34.753451"
      ]
     },
     "execution_count": 60,
     "metadata": {},
     "output_type": "execute_result"
    }
   ],
   "source": [
    "sample_submission.tail()"
   ]
  },
  {
   "cell_type": "code",
   "execution_count": 61,
   "metadata": {
    "collapsed": true
   },
   "outputs": [],
   "source": [
    "sample_submission.to_csv('gpn_b2b_allm.csv.gz', compression='gzip',  index=False)"
   ]
  },
  {
   "cell_type": "code",
   "execution_count": null,
   "metadata": {
    "collapsed": true
   },
   "outputs": [],
   "source": [
    "# estimators 128 и 64"
   ]
  }
 ],
 "metadata": {
  "kernelspec": {
   "display_name": "Python 3",
   "language": "python",
   "name": "python3"
  },
  "language_info": {
   "codemirror_mode": {
    "name": "ipython",
    "version": 3
   },
   "file_extension": ".py",
   "mimetype": "text/x-python",
   "name": "python",
   "nbconvert_exporter": "python",
   "pygments_lexer": "ipython3",
   "version": "3.6.3"
  }
 },
 "nbformat": 4,
 "nbformat_minor": 2
}
