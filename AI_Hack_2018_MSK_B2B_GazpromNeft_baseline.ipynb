{
 "cells": [
  {
   "cell_type": "markdown",
   "metadata": {},
   "source": [
    "# Хакатон AI.Hack Москва.\n",
    "## Газпром Нефть\n",
    "\n",
    "https://www.kaggle.com/c/ai-hack-2018-msk-gpn/leaderboard"
   ]
  },
  {
   "cell_type": "code",
   "execution_count": 1,
   "metadata": {
    "collapsed": true
   },
   "outputs": [],
   "source": [
    "import pandas as pd\n",
    "import numpy as np\n",
    "import gc"
   ]
  },
  {
   "cell_type": "code",
   "execution_count": 2,
   "metadata": {
    "collapsed": true
   },
   "outputs": [],
   "source": [
    "# предопределим типы колонок для экономии памяти\n",
    "dtypes = {\n",
    "    'ID': np.int32,\n",
    "    'CLIENT': np.int32,\n",
    "    'DATA_TRANS': str,\n",
    "    'AZS_NUMBER': np.int16,\n",
    "    'REGION_AZS': np.int16,\n",
    "    'VID_NP': np.int16,\n",
    "    'COL_LITR':  np.float32,\n",
    "    'CENA_CLIENT': np.float32\n",
    "    }"
   ]
  },
  {
   "cell_type": "code",
   "execution_count": 3,
   "metadata": {
    "collapsed": true
   },
   "outputs": [],
   "source": [
    "train = pd.read_csv('datasets/gpn_b2b/train_data.csv', dtype = dtypes)"
   ]
  },
  {
   "cell_type": "code",
   "execution_count": 4,
   "metadata": {
    "collapsed": true,
    "scrolled": true
   },
   "outputs": [],
   "source": [
    "test = pd.read_csv('datasets/gpn_b2b/test_data.csv', dtype = dtypes)"
   ]
  },
  {
   "cell_type": "code",
   "execution_count": 5,
   "metadata": {
    "collapsed": true
   },
   "outputs": [],
   "source": [
    "def month(s): #для обучения сезонности\n",
    "    return int(s[3:5])\n",
    "\n",
    "def year(s):\n",
    "    return int(s[8:10])\n",
    "\n",
    "def date(s): #для пристегивания фич\n",
    "    return s[3:10]"
   ]
  },
  {
   "cell_type": "code",
   "execution_count": 6,
   "metadata": {},
   "outputs": [
    {
     "name": "stdout",
     "output_type": "stream",
     "text": [
      "CPU times: user 24.7 s, sys: 931 ms, total: 25.6 s\n",
      "Wall time: 25.6 s\n"
     ]
    }
   ],
   "source": [
    "%%time\n",
    "\n",
    "train['month'] = train['DATA_TRANS'].apply(month).astype(float)\n",
    "\n",
    "test['month'] = test['DATA_TRANS'].apply(month).astype(float)"
   ]
  },
  {
   "cell_type": "code",
   "execution_count": 7,
   "metadata": {
    "collapsed": true
   },
   "outputs": [],
   "source": [
    "train_sel = train  # catboost не хватало оперативы и использовал только часть, удалено, т.к. lightgbm показал себя на этих данных лучше"
   ]
  },
  {
   "cell_type": "code",
   "execution_count": 9,
   "metadata": {},
   "outputs": [
    {
     "name": "stdout",
     "output_type": "stream",
     "text": [
      "CPU times: user 48.9 s, sys: 73 ms, total: 49 s\n",
      "Wall time: 49 s\n"
     ]
    }
   ],
   "source": [
    "%%time\n",
    "\n",
    "features = pd.read_csv('datasets/gpn_b2b/features_monthly.csv') \n",
    "# сгенерировано с полным тестом блокнотом features_monthly.ipynb\n",
    "# внезапно медианный литраж с разбивкой по месяцам + линейная регрессия на янв-мар 2018 \n",
    "#дает хуже скор чем по всему периоду\n",
    "\n",
    "trans_count_d = {} # немножко покешируем т.к. вытаскивание из датафрейма медленнее\n",
    "ltr_mean_d = {}\n",
    "\n",
    "for index, row in features.iterrows():\n",
    "    trans_count_d[row['client_date']] = row['trans_count']\n",
    "    ltr_mean_d[row['client_date']] = row['ltr_mean']\n",
    "\n",
    "def trans_count(c):\n",
    "    try:\n",
    "        return trans_count_d[c]\n",
    "    except:\n",
    "        return np.nan\n",
    "\n",
    "def ltr_mean(c):\n",
    "    try:\n",
    "        return ltr_mean_d[c]\n",
    "    except:\n",
    "        return np.nan"
   ]
  },
  {
   "cell_type": "code",
   "execution_count": 10,
   "metadata": {},
   "outputs": [
    {
     "name": "stdout",
     "output_type": "stream",
     "text": [
      "CPU times: user 1min 52s, sys: 6.23 s, total: 1min 58s\n",
      "Wall time: 1min 58s\n"
     ]
    }
   ],
   "source": [
    "%%time\n",
    "\n",
    "train_sel['date'] = train_sel['DATA_TRANS'].apply(date)\n",
    "train_sel['client_date'] = train_sel['CLIENT'].astype(str) + '_' + train_sel['date'].astype(str)\n",
    "train_sel['trans_count'] = train_sel['client_date'].apply(trans_count).astype(float)\n",
    "train_sel['ltr_mean'] = train_sel['client_date'].apply(ltr_mean).astype(float)\n",
    "\n",
    "test['date'] = test['DATA_TRANS'].apply(date)\n",
    "test['client_date'] = test['CLIENT'].astype(str) + '_' + test['date'].astype(str)\n",
    "test['trans_count'] = test['client_date'].apply(trans_count).astype(float)\n",
    "test['ltr_mean'] = test['client_date'].apply(ltr_mean).astype(float)"
   ]
  },
  {
   "cell_type": "code",
   "execution_count": 11,
   "metadata": {},
   "outputs": [
    {
     "name": "stdout",
     "output_type": "stream",
     "text": [
      "CPU times: user 47.1 s, sys: 4.48 s, total: 51.6 s\n",
      "Wall time: 1min 5s\n"
     ]
    }
   ],
   "source": [
    "%%time\n",
    "\n",
    "# фичи про оценку размера бизнеса\n",
    "# до 40 000 литров/месяц – массовый;\n",
    "# от 40 000 до 150 000 литров/месяц – средний;\n",
    "# от 150 000 литров/месяц – крупный;\n",
    "\n",
    "train_sel['biz_estimated_ltr'] = train_sel['trans_count'] * train_sel['ltr_mean']\n",
    "train_sel['biz_mass'] = train_sel['biz_estimated_ltr'].apply(lambda x: 1 if x <= 40000 else 0).astype(np.int16)\n",
    "train_sel['biz_mid'] = train_sel['biz_estimated_ltr'].apply(lambda x: 1 if x > 40000 and x <= 150000 else 0).astype(np.int16)\n",
    "train_sel['biz_big'] = train_sel['biz_estimated_ltr'].apply(lambda x: 1 if x > 150000 else 0).astype(np.int16)\n",
    "\n",
    "\n",
    "test['biz_estimated_ltr'] = test['trans_count'] * test['ltr_mean']\n",
    "test['biz_mass'] = test['biz_estimated_ltr'].apply(lambda x: 1 if x <= 40000 else 0).astype(np.int16)\n",
    "test['biz_mid'] = test['biz_estimated_ltr'].apply(lambda x: 1 if x > 40000 and x <= 150000 else 0).astype(np.int16)\n",
    "test['biz_big'] = test['biz_estimated_ltr'].apply(lambda x: 1 if x > 150000 else 0).astype(np.int16)"
   ]
  },
  {
   "cell_type": "code",
   "execution_count": 12,
   "metadata": {},
   "outputs": [
    {
     "data": {
      "text/html": [
       "<div>\n",
       "<style>\n",
       "    .dataframe thead tr:only-child th {\n",
       "        text-align: right;\n",
       "    }\n",
       "\n",
       "    .dataframe thead th {\n",
       "        text-align: left;\n",
       "    }\n",
       "\n",
       "    .dataframe tbody tr th {\n",
       "        vertical-align: top;\n",
       "    }\n",
       "</style>\n",
       "<table border=\"1\" class=\"dataframe\">\n",
       "  <thead>\n",
       "    <tr style=\"text-align: right;\">\n",
       "      <th></th>\n",
       "      <th>ID</th>\n",
       "      <th>CLIENT</th>\n",
       "      <th>DATA_TRANS</th>\n",
       "      <th>AZS_NUMBER</th>\n",
       "      <th>REGION_AZS</th>\n",
       "      <th>VID_NP</th>\n",
       "      <th>COL_LITR</th>\n",
       "      <th>CENA_CLIENT</th>\n",
       "      <th>month</th>\n",
       "      <th>date</th>\n",
       "      <th>client_date</th>\n",
       "      <th>trans_count</th>\n",
       "      <th>ltr_mean</th>\n",
       "      <th>biz_estimated_ltr</th>\n",
       "      <th>biz_mass</th>\n",
       "      <th>biz_mid</th>\n",
       "      <th>biz_big</th>\n",
       "    </tr>\n",
       "  </thead>\n",
       "  <tbody>\n",
       "    <tr>\n",
       "      <th>15226606</th>\n",
       "      <td>15226606</td>\n",
       "      <td>28300</td>\n",
       "      <td>08.07.2017 16:40:41</td>\n",
       "      <td>1686</td>\n",
       "      <td>4</td>\n",
       "      <td>1</td>\n",
       "      <td>400.000000</td>\n",
       "      <td>38.090000</td>\n",
       "      <td>7.0</td>\n",
       "      <td>07.2017</td>\n",
       "      <td>28300_07.2017</td>\n",
       "      <td>18904.0</td>\n",
       "      <td>178.742401</td>\n",
       "      <td>3.378946e+06</td>\n",
       "      <td>0</td>\n",
       "      <td>0</td>\n",
       "      <td>1</td>\n",
       "    </tr>\n",
       "    <tr>\n",
       "      <th>7865285</th>\n",
       "      <td>7865285</td>\n",
       "      <td>24630</td>\n",
       "      <td>21.03.2017 4:23:58</td>\n",
       "      <td>2518</td>\n",
       "      <td>5</td>\n",
       "      <td>1</td>\n",
       "      <td>81.669998</td>\n",
       "      <td>33.490002</td>\n",
       "      <td>3.0</td>\n",
       "      <td>03.2017</td>\n",
       "      <td>24630_03.2017</td>\n",
       "      <td>1353.0</td>\n",
       "      <td>246.990585</td>\n",
       "      <td>3.341783e+05</td>\n",
       "      <td>0</td>\n",
       "      <td>0</td>\n",
       "      <td>1</td>\n",
       "    </tr>\n",
       "    <tr>\n",
       "      <th>28962808</th>\n",
       "      <td>28962808</td>\n",
       "      <td>5124</td>\n",
       "      <td>29.11.2017 13:41:35</td>\n",
       "      <td>750</td>\n",
       "      <td>21</td>\n",
       "      <td>1</td>\n",
       "      <td>35.000000</td>\n",
       "      <td>35.779999</td>\n",
       "      <td>11.0</td>\n",
       "      <td>11.2017</td>\n",
       "      <td>5124_11.2017</td>\n",
       "      <td>6564.0</td>\n",
       "      <td>66.078438</td>\n",
       "      <td>4.337389e+05</td>\n",
       "      <td>0</td>\n",
       "      <td>0</td>\n",
       "      <td>1</td>\n",
       "    </tr>\n",
       "    <tr>\n",
       "      <th>6587793</th>\n",
       "      <td>6587793</td>\n",
       "      <td>34300</td>\n",
       "      <td>27.02.2017 7:03:43</td>\n",
       "      <td>2714</td>\n",
       "      <td>14</td>\n",
       "      <td>2</td>\n",
       "      <td>40.000000</td>\n",
       "      <td>33.299999</td>\n",
       "      <td>2.0</td>\n",
       "      <td>02.2017</td>\n",
       "      <td>34300_02.2017</td>\n",
       "      <td>46.0</td>\n",
       "      <td>38.182240</td>\n",
       "      <td>1.756383e+03</td>\n",
       "      <td>1</td>\n",
       "      <td>0</td>\n",
       "      <td>0</td>\n",
       "    </tr>\n",
       "    <tr>\n",
       "      <th>8883112</th>\n",
       "      <td>8883112</td>\n",
       "      <td>23303</td>\n",
       "      <td>06.04.2017 10:54:30</td>\n",
       "      <td>2484</td>\n",
       "      <td>3</td>\n",
       "      <td>2</td>\n",
       "      <td>30.000000</td>\n",
       "      <td>38.230000</td>\n",
       "      <td>4.0</td>\n",
       "      <td>04.2017</td>\n",
       "      <td>23303_04.2017</td>\n",
       "      <td>414.0</td>\n",
       "      <td>38.769535</td>\n",
       "      <td>1.605059e+04</td>\n",
       "      <td>1</td>\n",
       "      <td>0</td>\n",
       "      <td>0</td>\n",
       "    </tr>\n",
       "  </tbody>\n",
       "</table>\n",
       "</div>"
      ],
      "text/plain": [
       "                ID  CLIENT           DATA_TRANS  AZS_NUMBER  REGION_AZS  \\\n",
       "15226606  15226606   28300  08.07.2017 16:40:41        1686           4   \n",
       "7865285    7865285   24630   21.03.2017 4:23:58        2518           5   \n",
       "28962808  28962808    5124  29.11.2017 13:41:35         750          21   \n",
       "6587793    6587793   34300   27.02.2017 7:03:43        2714          14   \n",
       "8883112    8883112   23303  06.04.2017 10:54:30        2484           3   \n",
       "\n",
       "          VID_NP    COL_LITR  CENA_CLIENT  month     date    client_date  \\\n",
       "15226606       1  400.000000    38.090000    7.0  07.2017  28300_07.2017   \n",
       "7865285        1   81.669998    33.490002    3.0  03.2017  24630_03.2017   \n",
       "28962808       1   35.000000    35.779999   11.0  11.2017   5124_11.2017   \n",
       "6587793        2   40.000000    33.299999    2.0  02.2017  34300_02.2017   \n",
       "8883112        2   30.000000    38.230000    4.0  04.2017  23303_04.2017   \n",
       "\n",
       "          trans_count    ltr_mean  biz_estimated_ltr  biz_mass  biz_mid  \\\n",
       "15226606      18904.0  178.742401       3.378946e+06         0        0   \n",
       "7865285        1353.0  246.990585       3.341783e+05         0        0   \n",
       "28962808       6564.0   66.078438       4.337389e+05         0        0   \n",
       "6587793          46.0   38.182240       1.756383e+03         1        0   \n",
       "8883112         414.0   38.769535       1.605059e+04         1        0   \n",
       "\n",
       "          biz_big  \n",
       "15226606        1  \n",
       "7865285         1  \n",
       "28962808        1  \n",
       "6587793         0  \n",
       "8883112         0  "
      ]
     },
     "execution_count": 12,
     "metadata": {},
     "output_type": "execute_result"
    }
   ],
   "source": [
    "train_sel.sample(5)"
   ]
  },
  {
   "cell_type": "code",
   "execution_count": 13,
   "metadata": {},
   "outputs": [
    {
     "data": {
      "text/html": [
       "<div>\n",
       "<style>\n",
       "    .dataframe thead tr:only-child th {\n",
       "        text-align: right;\n",
       "    }\n",
       "\n",
       "    .dataframe thead th {\n",
       "        text-align: left;\n",
       "    }\n",
       "\n",
       "    .dataframe tbody tr th {\n",
       "        vertical-align: top;\n",
       "    }\n",
       "</style>\n",
       "<table border=\"1\" class=\"dataframe\">\n",
       "  <thead>\n",
       "    <tr style=\"text-align: right;\">\n",
       "      <th></th>\n",
       "      <th>ID</th>\n",
       "      <th>CLIENT</th>\n",
       "      <th>DATA_TRANS</th>\n",
       "      <th>AZS_NUMBER</th>\n",
       "      <th>REGION_AZS</th>\n",
       "      <th>VID_NP</th>\n",
       "      <th>CENA_CLIENT</th>\n",
       "      <th>month</th>\n",
       "      <th>date</th>\n",
       "      <th>client_date</th>\n",
       "      <th>trans_count</th>\n",
       "      <th>ltr_mean</th>\n",
       "      <th>biz_estimated_ltr</th>\n",
       "      <th>biz_mass</th>\n",
       "      <th>biz_mid</th>\n",
       "      <th>biz_big</th>\n",
       "    </tr>\n",
       "  </thead>\n",
       "  <tbody>\n",
       "    <tr>\n",
       "      <th>999009</th>\n",
       "      <td>999009</td>\n",
       "      <td>34917</td>\n",
       "      <td>29.01.2018 9:46:26</td>\n",
       "      <td>1328</td>\n",
       "      <td>17</td>\n",
       "      <td>1</td>\n",
       "      <td>39.669998</td>\n",
       "      <td>1.0</td>\n",
       "      <td>01.2018</td>\n",
       "      <td>34917_01.2018</td>\n",
       "      <td>301.0</td>\n",
       "      <td>122.249344</td>\n",
       "      <td>3.679705e+04</td>\n",
       "      <td>1</td>\n",
       "      <td>0</td>\n",
       "      <td>0</td>\n",
       "    </tr>\n",
       "    <tr>\n",
       "      <th>375183</th>\n",
       "      <td>375183</td>\n",
       "      <td>48661</td>\n",
       "      <td>24.01.2018 9:19:47</td>\n",
       "      <td>1547</td>\n",
       "      <td>5</td>\n",
       "      <td>1</td>\n",
       "      <td>36.770000</td>\n",
       "      <td>1.0</td>\n",
       "      <td>01.2018</td>\n",
       "      <td>48661_01.2018</td>\n",
       "      <td>362.0</td>\n",
       "      <td>299.312531</td>\n",
       "      <td>1.083511e+05</td>\n",
       "      <td>0</td>\n",
       "      <td>1</td>\n",
       "      <td>0</td>\n",
       "    </tr>\n",
       "    <tr>\n",
       "      <th>62614</th>\n",
       "      <td>62614</td>\n",
       "      <td>1</td>\n",
       "      <td>13.03.2018 21:54:42</td>\n",
       "      <td>1430</td>\n",
       "      <td>21</td>\n",
       "      <td>1</td>\n",
       "      <td>40.500000</td>\n",
       "      <td>3.0</td>\n",
       "      <td>03.2018</td>\n",
       "      <td>1_03.2018</td>\n",
       "      <td>80424.0</td>\n",
       "      <td>182.545700</td>\n",
       "      <td>1.468106e+07</td>\n",
       "      <td>0</td>\n",
       "      <td>0</td>\n",
       "      <td>1</td>\n",
       "    </tr>\n",
       "    <tr>\n",
       "      <th>269683</th>\n",
       "      <td>269683</td>\n",
       "      <td>23205</td>\n",
       "      <td>05.03.2018 17:13:00</td>\n",
       "      <td>1749</td>\n",
       "      <td>19</td>\n",
       "      <td>1</td>\n",
       "      <td>39.900002</td>\n",
       "      <td>3.0</td>\n",
       "      <td>03.2018</td>\n",
       "      <td>23205_03.2018</td>\n",
       "      <td>37.0</td>\n",
       "      <td>67.232681</td>\n",
       "      <td>2.487609e+03</td>\n",
       "      <td>1</td>\n",
       "      <td>0</td>\n",
       "      <td>0</td>\n",
       "    </tr>\n",
       "    <tr>\n",
       "      <th>881927</th>\n",
       "      <td>881927</td>\n",
       "      <td>33530</td>\n",
       "      <td>08.02.2018 13:29:35</td>\n",
       "      <td>1781</td>\n",
       "      <td>24</td>\n",
       "      <td>2</td>\n",
       "      <td>38.150002</td>\n",
       "      <td>2.0</td>\n",
       "      <td>02.2018</td>\n",
       "      <td>33530_02.2018</td>\n",
       "      <td>31.0</td>\n",
       "      <td>30.399511</td>\n",
       "      <td>9.423849e+02</td>\n",
       "      <td>1</td>\n",
       "      <td>0</td>\n",
       "      <td>0</td>\n",
       "    </tr>\n",
       "  </tbody>\n",
       "</table>\n",
       "</div>"
      ],
      "text/plain": [
       "            ID  CLIENT           DATA_TRANS  AZS_NUMBER  REGION_AZS  VID_NP  \\\n",
       "999009  999009   34917   29.01.2018 9:46:26        1328          17       1   \n",
       "375183  375183   48661   24.01.2018 9:19:47        1547           5       1   \n",
       "62614    62614       1  13.03.2018 21:54:42        1430          21       1   \n",
       "269683  269683   23205  05.03.2018 17:13:00        1749          19       1   \n",
       "881927  881927   33530  08.02.2018 13:29:35        1781          24       2   \n",
       "\n",
       "        CENA_CLIENT  month     date    client_date  trans_count    ltr_mean  \\\n",
       "999009    39.669998    1.0  01.2018  34917_01.2018        301.0  122.249344   \n",
       "375183    36.770000    1.0  01.2018  48661_01.2018        362.0  299.312531   \n",
       "62614     40.500000    3.0  03.2018      1_03.2018      80424.0  182.545700   \n",
       "269683    39.900002    3.0  03.2018  23205_03.2018         37.0   67.232681   \n",
       "881927    38.150002    2.0  02.2018  33530_02.2018         31.0   30.399511   \n",
       "\n",
       "        biz_estimated_ltr  biz_mass  biz_mid  biz_big  \n",
       "999009       3.679705e+04         1        0        0  \n",
       "375183       1.083511e+05         0        1        0  \n",
       "62614        1.468106e+07         0        0        1  \n",
       "269683       2.487609e+03         1        0        0  \n",
       "881927       9.423849e+02         1        0        0  "
      ]
     },
     "execution_count": 13,
     "metadata": {},
     "output_type": "execute_result"
    }
   ],
   "source": [
    "test.sample(5)"
   ]
  },
  {
   "cell_type": "code",
   "execution_count": 14,
   "metadata": {
    "collapsed": true
   },
   "outputs": [],
   "source": [
    "cols = ['CLIENT','AZS_NUMBER','REGION_AZS','VID_NP','CENA_CLIENT','month','trans_count','biz_estimated_ltr','ltr_mean']"
   ]
  },
  {
   "cell_type": "code",
   "execution_count": 15,
   "metadata": {},
   "outputs": [
    {
     "data": {
      "text/plain": [
       "393"
      ]
     },
     "execution_count": 15,
     "metadata": {},
     "output_type": "execute_result"
    }
   ],
   "source": [
    "X_train = train_sel[cols]\n",
    "y = train_sel['COL_LITR']\n",
    "X_test = test[cols]\n",
    "\n",
    "del train, train_sel, test\n",
    "gc.collect() "
   ]
  },
  {
   "cell_type": "code",
   "execution_count": 30,
   "metadata": {
    "collapsed": true
   },
   "outputs": [],
   "source": [
    "import lightgbm"
   ]
  },
  {
   "cell_type": "code",
   "execution_count": 31,
   "metadata": {},
   "outputs": [
    {
     "name": "stdout",
     "output_type": "stream",
     "text": [
      "CPU times: user 5min 4s, sys: 5.38 s, total: 5min 9s\n",
      "Wall time: 1min 36s\n"
     ]
    }
   ],
   "source": [
    "%%time\n",
    "\n",
    "ctb = lightgbm.LGBMRegressor(n_estimators=40)\n",
    "ctb.fit(X_train, y)"
   ]
  },
  {
   "cell_type": "code",
   "execution_count": 32,
   "metadata": {},
   "outputs": [
    {
     "data": {
      "text/plain": [
       "LGBMRegressor(boosting_type='gbdt', class_weight=None, colsample_bytree=1.0,\n",
       "       learning_rate=0.1, max_depth=-1, min_child_samples=20,\n",
       "       min_child_weight=0.001, min_split_gain=0.0, n_estimators=40,\n",
       "       n_jobs=-1, num_leaves=31, objective=None, random_state=None,\n",
       "       reg_alpha=0.0, reg_lambda=0.0, silent=True, subsample=1.0,\n",
       "       subsample_for_bin=200000, subsample_freq=1)"
      ]
     },
     "execution_count": 32,
     "metadata": {},
     "output_type": "execute_result"
    }
   ],
   "source": [
    "ctb"
   ]
  },
  {
   "cell_type": "code",
   "execution_count": 33,
   "metadata": {},
   "outputs": [
    {
     "data": {
      "text/html": [
       "<div>\n",
       "<style>\n",
       "    .dataframe thead tr:only-child th {\n",
       "        text-align: right;\n",
       "    }\n",
       "\n",
       "    .dataframe thead th {\n",
       "        text-align: left;\n",
       "    }\n",
       "\n",
       "    .dataframe tbody tr th {\n",
       "        vertical-align: top;\n",
       "    }\n",
       "</style>\n",
       "<table border=\"1\" class=\"dataframe\">\n",
       "  <thead>\n",
       "    <tr style=\"text-align: right;\">\n",
       "      <th></th>\n",
       "      <th>0</th>\n",
       "    </tr>\n",
       "  </thead>\n",
       "  <tbody>\n",
       "    <tr>\n",
       "      <th>43</th>\n",
       "      <td>CLIENT</td>\n",
       "    </tr>\n",
       "    <tr>\n",
       "      <th>292</th>\n",
       "      <td>AZS_NUMBER</td>\n",
       "    </tr>\n",
       "    <tr>\n",
       "      <th>270</th>\n",
       "      <td>REGION_AZS</td>\n",
       "    </tr>\n",
       "    <tr>\n",
       "      <th>87</th>\n",
       "      <td>VID_NP</td>\n",
       "    </tr>\n",
       "    <tr>\n",
       "      <th>89</th>\n",
       "      <td>CENA_CLIENT</td>\n",
       "    </tr>\n",
       "    <tr>\n",
       "      <th>4</th>\n",
       "      <td>month</td>\n",
       "    </tr>\n",
       "    <tr>\n",
       "      <th>60</th>\n",
       "      <td>trans_count</td>\n",
       "    </tr>\n",
       "    <tr>\n",
       "      <th>80</th>\n",
       "      <td>biz_estimated_ltr</td>\n",
       "    </tr>\n",
       "    <tr>\n",
       "      <th>275</th>\n",
       "      <td>ltr_mean</td>\n",
       "    </tr>\n",
       "  </tbody>\n",
       "</table>\n",
       "</div>"
      ],
      "text/plain": [
       "                     0\n",
       "43              CLIENT\n",
       "292         AZS_NUMBER\n",
       "270         REGION_AZS\n",
       "87              VID_NP\n",
       "89         CENA_CLIENT\n",
       "4                month\n",
       "60         trans_count\n",
       "80   biz_estimated_ltr\n",
       "275           ltr_mean"
      ]
     },
     "execution_count": 33,
     "metadata": {},
     "output_type": "execute_result"
    }
   ],
   "source": [
    "pd.DataFrame(X_train.columns, ctb.feature_importances_)"
   ]
  },
  {
   "cell_type": "code",
   "execution_count": 34,
   "metadata": {
    "collapsed": true
   },
   "outputs": [],
   "source": [
    "y_test = ctb.predict(X_test)"
   ]
  },
  {
   "cell_type": "code",
   "execution_count": 35,
   "metadata": {},
   "outputs": [
    {
     "data": {
      "text/plain": [
       "(1000000,)"
      ]
     },
     "execution_count": 35,
     "metadata": {},
     "output_type": "execute_result"
    }
   ],
   "source": [
    "y_test.shape"
   ]
  },
  {
   "cell_type": "code",
   "execution_count": 36,
   "metadata": {},
   "outputs": [
    {
     "data": {
      "text/plain": [
       "(1000000, 9)"
      ]
     },
     "execution_count": 36,
     "metadata": {},
     "output_type": "execute_result"
    }
   ],
   "source": [
    "X_test.shape"
   ]
  },
  {
   "cell_type": "code",
   "execution_count": 37,
   "metadata": {
    "collapsed": true
   },
   "outputs": [],
   "source": [
    "sample_submission = pd.read_csv('datasets/gpn_b2b/sample_submission.csv')"
   ]
  },
  {
   "cell_type": "code",
   "execution_count": 38,
   "metadata": {},
   "outputs": [
    {
     "data": {
      "text/html": [
       "<div>\n",
       "<style>\n",
       "    .dataframe thead tr:only-child th {\n",
       "        text-align: right;\n",
       "    }\n",
       "\n",
       "    .dataframe thead th {\n",
       "        text-align: left;\n",
       "    }\n",
       "\n",
       "    .dataframe tbody tr th {\n",
       "        vertical-align: top;\n",
       "    }\n",
       "</style>\n",
       "<table border=\"1\" class=\"dataframe\">\n",
       "  <thead>\n",
       "    <tr style=\"text-align: right;\">\n",
       "      <th></th>\n",
       "      <th>ID</th>\n",
       "      <th>COL_LITR</th>\n",
       "    </tr>\n",
       "  </thead>\n",
       "  <tbody>\n",
       "    <tr>\n",
       "      <th>999995</th>\n",
       "      <td>999995</td>\n",
       "      <td>0.0</td>\n",
       "    </tr>\n",
       "    <tr>\n",
       "      <th>999996</th>\n",
       "      <td>999996</td>\n",
       "      <td>0.0</td>\n",
       "    </tr>\n",
       "    <tr>\n",
       "      <th>999997</th>\n",
       "      <td>999997</td>\n",
       "      <td>0.0</td>\n",
       "    </tr>\n",
       "    <tr>\n",
       "      <th>999998</th>\n",
       "      <td>999998</td>\n",
       "      <td>0.0</td>\n",
       "    </tr>\n",
       "    <tr>\n",
       "      <th>999999</th>\n",
       "      <td>999999</td>\n",
       "      <td>0.0</td>\n",
       "    </tr>\n",
       "  </tbody>\n",
       "</table>\n",
       "</div>"
      ],
      "text/plain": [
       "            ID  COL_LITR\n",
       "999995  999995       0.0\n",
       "999996  999996       0.0\n",
       "999997  999997       0.0\n",
       "999998  999998       0.0\n",
       "999999  999999       0.0"
      ]
     },
     "execution_count": 38,
     "metadata": {},
     "output_type": "execute_result"
    }
   ],
   "source": [
    "sample_submission.tail()"
   ]
  },
  {
   "cell_type": "code",
   "execution_count": 39,
   "metadata": {
    "collapsed": true
   },
   "outputs": [],
   "source": [
    "sample_submission['COL_LITR'] = y_test"
   ]
  },
  {
   "cell_type": "code",
   "execution_count": 40,
   "metadata": {},
   "outputs": [
    {
     "data": {
      "text/html": [
       "<div>\n",
       "<style>\n",
       "    .dataframe thead tr:only-child th {\n",
       "        text-align: right;\n",
       "    }\n",
       "\n",
       "    .dataframe thead th {\n",
       "        text-align: left;\n",
       "    }\n",
       "\n",
       "    .dataframe tbody tr th {\n",
       "        vertical-align: top;\n",
       "    }\n",
       "</style>\n",
       "<table border=\"1\" class=\"dataframe\">\n",
       "  <thead>\n",
       "    <tr style=\"text-align: right;\">\n",
       "      <th></th>\n",
       "      <th>ID</th>\n",
       "      <th>COL_LITR</th>\n",
       "    </tr>\n",
       "  </thead>\n",
       "  <tbody>\n",
       "    <tr>\n",
       "      <th>999995</th>\n",
       "      <td>999995</td>\n",
       "      <td>152.634069</td>\n",
       "    </tr>\n",
       "    <tr>\n",
       "      <th>999996</th>\n",
       "      <td>999996</td>\n",
       "      <td>169.025747</td>\n",
       "    </tr>\n",
       "    <tr>\n",
       "      <th>999997</th>\n",
       "      <td>999997</td>\n",
       "      <td>336.789013</td>\n",
       "    </tr>\n",
       "    <tr>\n",
       "      <th>999998</th>\n",
       "      <td>999998</td>\n",
       "      <td>39.789945</td>\n",
       "    </tr>\n",
       "    <tr>\n",
       "      <th>999999</th>\n",
       "      <td>999999</td>\n",
       "      <td>36.891937</td>\n",
       "    </tr>\n",
       "  </tbody>\n",
       "</table>\n",
       "</div>"
      ],
      "text/plain": [
       "            ID    COL_LITR\n",
       "999995  999995  152.634069\n",
       "999996  999996  169.025747\n",
       "999997  999997  336.789013\n",
       "999998  999998   39.789945\n",
       "999999  999999   36.891937"
      ]
     },
     "execution_count": 40,
     "metadata": {},
     "output_type": "execute_result"
    }
   ],
   "source": [
    "sample_submission.tail()"
   ]
  },
  {
   "cell_type": "code",
   "execution_count": 41,
   "metadata": {
    "collapsed": true
   },
   "outputs": [],
   "source": [
    "sample_submission.to_csv('gpn_b2b_allm.csv.gz', compression='gzip',  index=False)"
   ]
  },
  {
   "cell_type": "code",
   "execution_count": null,
   "metadata": {
    "collapsed": true
   },
   "outputs": [],
   "source": []
  }
 ],
 "metadata": {
  "kernelspec": {
   "display_name": "Python 3",
   "language": "python",
   "name": "python3"
  },
  "language_info": {
   "codemirror_mode": {
    "name": "ipython",
    "version": 3
   },
   "file_extension": ".py",
   "mimetype": "text/x-python",
   "name": "python",
   "nbconvert_exporter": "python",
   "pygments_lexer": "ipython3",
   "version": "3.6.3"
  }
 },
 "nbformat": 4,
 "nbformat_minor": 2
}
