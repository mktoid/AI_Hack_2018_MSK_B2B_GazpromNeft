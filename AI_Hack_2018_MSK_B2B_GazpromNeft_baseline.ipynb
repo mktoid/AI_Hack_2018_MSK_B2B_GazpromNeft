{
 "cells": [
  {
   "cell_type": "markdown",
   "metadata": {},
   "source": [
    "# Хакатон AI.Hack Москва.\n",
    "## Газпром Нефть\n",
    "\n",
    "https://www.kaggle.com/c/ai-hack-2018-msk-gpn/leaderboard"
   ]
  },
  {
   "cell_type": "code",
   "execution_count": 1,
   "metadata": {
    "collapsed": true
   },
   "outputs": [],
   "source": [
    "import pandas as pd\n",
    "import numpy as np\n",
    "import gc"
   ]
  },
  {
   "cell_type": "code",
   "execution_count": 2,
   "metadata": {
    "collapsed": true
   },
   "outputs": [],
   "source": [
    "# предопределим типы колонок для экономии памяти\n",
    "dtypes = {\n",
    "    'ID': np.int32,\n",
    "    'CLIENT': np.int32,\n",
    "    'DATA_TRANS': str,\n",
    "    'AZS_NUMBER': np.int16,\n",
    "    'REGION_AZS': np.int16,\n",
    "    'VID_NP': np.int16,\n",
    "    'COL_LITR':  np.float32,\n",
    "    'CENA_CLIENT': np.float32\n",
    "    }"
   ]
  },
  {
   "cell_type": "code",
   "execution_count": 3,
   "metadata": {
    "collapsed": true
   },
   "outputs": [],
   "source": [
    "train = pd.read_csv('datasets/gpn_b2b/train_data.csv', dtype = dtypes)"
   ]
  },
  {
   "cell_type": "code",
   "execution_count": 4,
   "metadata": {
    "collapsed": true,
    "scrolled": true
   },
   "outputs": [],
   "source": [
    "test = pd.read_csv('datasets/gpn_b2b/test_data.csv', dtype = dtypes)"
   ]
  },
  {
   "cell_type": "code",
   "execution_count": 5,
   "metadata": {
    "collapsed": true
   },
   "outputs": [],
   "source": [
    "def month(s): #для обучения сезонности\n",
    "    return int(s[3:5])\n",
    "\n",
    "def year(s):\n",
    "    return int(s[8:10])\n",
    "\n",
    "def date(s): #для пристегивания фич\n",
    "    return s[3:10]"
   ]
  },
  {
   "cell_type": "code",
   "execution_count": 6,
   "metadata": {},
   "outputs": [
    {
     "name": "stdout",
     "output_type": "stream",
     "text": [
      "CPU times: user 24.8 s, sys: 927 ms, total: 25.7 s\n",
      "Wall time: 25.7 s\n"
     ]
    }
   ],
   "source": [
    "%%time\n",
    "\n",
    "train['month'] = train['DATA_TRANS'].apply(month).astype(float)\n",
    "\n",
    "test['month'] = test['DATA_TRANS'].apply(month).astype(float)"
   ]
  },
  {
   "cell_type": "code",
   "execution_count": 7,
   "metadata": {},
   "outputs": [],
   "source": [
    "train_sel = train  # catboost не хватало оперативы и использовал только часть, удалено, т.к. lightgbm показал себя на этих данных лучше"
   ]
  },
  {
   "cell_type": "code",
   "execution_count": 8,
   "metadata": {},
   "outputs": [
    {
     "name": "stdout",
     "output_type": "stream",
     "text": [
      "CPU times: user 48.7 s, sys: 47.3 ms, total: 48.8 s\n",
      "Wall time: 48.8 s\n"
     ]
    }
   ],
   "source": [
    "%%time\n",
    "\n",
    "features = pd.read_csv('datasets/gpn_b2b/features_monthly.csv') # сгенерировано с полным тестом в features_monthly.ipynb\n",
    "\n",
    "trans_count_d = {} # немножко покешируем т.к. вытаскивание из датафрейма медленнее\n",
    "ltr_mean_d = {}\n",
    "\n",
    "for index, row in features.iterrows():\n",
    "    trans_count_d[row['client_date']] = row['trans_count']\n",
    "    ltr_mean_d[row['client_date']] = row['ltr_mean']\n",
    "\n",
    "def trans_count(c):\n",
    "    try:\n",
    "        return trans_count_d[c]\n",
    "    except:\n",
    "        return np.nan\n",
    "\n",
    "def ltr_mean(c):\n",
    "    try:\n",
    "        return ltr_mean_d[c]\n",
    "    except:\n",
    "        return np.nan"
   ]
  },
  {
   "cell_type": "code",
   "execution_count": 9,
   "metadata": {},
   "outputs": [
    {
     "name": "stdout",
     "output_type": "stream",
     "text": [
      "CPU times: user 1min 52s, sys: 6.12 s, total: 1min 58s\n",
      "Wall time: 1min 58s\n"
     ]
    }
   ],
   "source": [
    "%%time\n",
    "\n",
    "train_sel['date'] = train_sel['DATA_TRANS'].apply(date)\n",
    "train_sel['client_date'] = train_sel['CLIENT'].astype(str) + '_' + train_sel['date'].astype(str)\n",
    "train_sel['trans_count'] = train_sel['client_date'].apply(trans_count).astype(float)\n",
    "train_sel['ltr_mean'] = train_sel['client_date'].apply(ltr_mean).astype(float)\n",
    "\n",
    "test['date'] = test['DATA_TRANS'].apply(date)\n",
    "test['client_date'] = test['CLIENT'].astype(str) + '_' + test['date'].astype(str)\n",
    "test['trans_count'] = test['client_date'].apply(trans_count).astype(float)\n",
    "test['ltr_mean'] = test['client_date'].apply(ltr_mean).astype(float)"
   ]
  },
  {
   "cell_type": "code",
   "execution_count": 10,
   "metadata": {},
   "outputs": [
    {
     "name": "stdout",
     "output_type": "stream",
     "text": [
      "CPU times: user 48.4 s, sys: 4.38 s, total: 52.8 s\n",
      "Wall time: 1min 10s\n"
     ]
    }
   ],
   "source": [
    "%%time\n",
    "\n",
    "# фичи про оценку размера бизнеса\n",
    "# до 40 000 литров/месяц – массовый;\n",
    "# от 40 000 до 150 000 литров/месяц – средний;\n",
    "# от 150 000 литров/месяц – крупный;\n",
    "\n",
    "train_sel['biz_estimated_ltr'] = train_sel['trans_count'] * train_sel['ltr_mean']\n",
    "train_sel['biz_mass'] = train_sel['biz_estimated_ltr'].apply(lambda x: 1 if x <= 40000 else 0).astype(np.int16)\n",
    "train_sel['biz_mid'] = train_sel['biz_estimated_ltr'].apply(lambda x: 1 if x > 40000 and x <= 150000 else 0).astype(np.int16)\n",
    "train_sel['biz_big'] = train_sel['biz_estimated_ltr'].apply(lambda x: 1 if x > 150000 else 0).astype(np.int16)\n",
    "\n",
    "\n",
    "test['biz_estimated_ltr'] = test['trans_count'] * test['ltr_mean']\n",
    "test['biz_mass'] = test['biz_estimated_ltr'].apply(lambda x: 1 if x <= 40000 else 0).astype(np.int16)\n",
    "test['biz_mid'] = test['biz_estimated_ltr'].apply(lambda x: 1 if x > 40000 and x <= 150000 else 0).astype(np.int16)\n",
    "test['biz_big'] = test['biz_estimated_ltr'].apply(lambda x: 1 if x > 150000 else 0).astype(np.int16)"
   ]
  },
  {
   "cell_type": "code",
   "execution_count": 11,
   "metadata": {},
   "outputs": [
    {
     "data": {
      "text/html": [
       "<div>\n",
       "<style>\n",
       "    .dataframe thead tr:only-child th {\n",
       "        text-align: right;\n",
       "    }\n",
       "\n",
       "    .dataframe thead th {\n",
       "        text-align: left;\n",
       "    }\n",
       "\n",
       "    .dataframe tbody tr th {\n",
       "        vertical-align: top;\n",
       "    }\n",
       "</style>\n",
       "<table border=\"1\" class=\"dataframe\">\n",
       "  <thead>\n",
       "    <tr style=\"text-align: right;\">\n",
       "      <th></th>\n",
       "      <th>ID</th>\n",
       "      <th>CLIENT</th>\n",
       "      <th>DATA_TRANS</th>\n",
       "      <th>AZS_NUMBER</th>\n",
       "      <th>REGION_AZS</th>\n",
       "      <th>VID_NP</th>\n",
       "      <th>COL_LITR</th>\n",
       "      <th>CENA_CLIENT</th>\n",
       "      <th>month</th>\n",
       "      <th>date</th>\n",
       "      <th>client_date</th>\n",
       "      <th>trans_count</th>\n",
       "      <th>ltr_mean</th>\n",
       "      <th>biz_estimated_ltr</th>\n",
       "      <th>biz_mass</th>\n",
       "      <th>biz_mid</th>\n",
       "      <th>biz_big</th>\n",
       "    </tr>\n",
       "  </thead>\n",
       "  <tbody>\n",
       "    <tr>\n",
       "      <th>30352606</th>\n",
       "      <td>30352606</td>\n",
       "      <td>48189</td>\n",
       "      <td>11.12.2017 8:51:26</td>\n",
       "      <td>803</td>\n",
       "      <td>2</td>\n",
       "      <td>1</td>\n",
       "      <td>36.000000</td>\n",
       "      <td>38.349998</td>\n",
       "      <td>12.0</td>\n",
       "      <td>12.2017</td>\n",
       "      <td>48189_12.2017</td>\n",
       "      <td>157.0</td>\n",
       "      <td>113.183655</td>\n",
       "      <td>17769.833801</td>\n",
       "      <td>1</td>\n",
       "      <td>0</td>\n",
       "      <td>0</td>\n",
       "    </tr>\n",
       "    <tr>\n",
       "      <th>23169727</th>\n",
       "      <td>23169727</td>\n",
       "      <td>14331</td>\n",
       "      <td>06.10.2017 19:30:46</td>\n",
       "      <td>1746</td>\n",
       "      <td>19</td>\n",
       "      <td>1</td>\n",
       "      <td>30.000000</td>\n",
       "      <td>35.669998</td>\n",
       "      <td>10.0</td>\n",
       "      <td>10.2017</td>\n",
       "      <td>14331_10.2017</td>\n",
       "      <td>430.0</td>\n",
       "      <td>44.869381</td>\n",
       "      <td>19293.833809</td>\n",
       "      <td>1</td>\n",
       "      <td>0</td>\n",
       "      <td>0</td>\n",
       "    </tr>\n",
       "    <tr>\n",
       "      <th>17416208</th>\n",
       "      <td>17416208</td>\n",
       "      <td>9118</td>\n",
       "      <td>04.08.2017 19:55:27</td>\n",
       "      <td>736</td>\n",
       "      <td>18</td>\n",
       "      <td>2</td>\n",
       "      <td>55.869999</td>\n",
       "      <td>35.080002</td>\n",
       "      <td>8.0</td>\n",
       "      <td>08.2017</td>\n",
       "      <td>9118_08.2017</td>\n",
       "      <td>12.0</td>\n",
       "      <td>57.156818</td>\n",
       "      <td>685.881821</td>\n",
       "      <td>1</td>\n",
       "      <td>0</td>\n",
       "      <td>0</td>\n",
       "    </tr>\n",
       "    <tr>\n",
       "      <th>26619021</th>\n",
       "      <td>26619021</td>\n",
       "      <td>35880</td>\n",
       "      <td>09.11.2017 10:07:40</td>\n",
       "      <td>1631</td>\n",
       "      <td>21</td>\n",
       "      <td>2</td>\n",
       "      <td>20.000000</td>\n",
       "      <td>33.480000</td>\n",
       "      <td>11.0</td>\n",
       "      <td>11.2017</td>\n",
       "      <td>35880_11.2017</td>\n",
       "      <td>744.0</td>\n",
       "      <td>15.481934</td>\n",
       "      <td>11518.558594</td>\n",
       "      <td>1</td>\n",
       "      <td>0</td>\n",
       "      <td>0</td>\n",
       "    </tr>\n",
       "    <tr>\n",
       "      <th>16423096</th>\n",
       "      <td>16423096</td>\n",
       "      <td>15361</td>\n",
       "      <td>24.07.2017 11:00:45</td>\n",
       "      <td>974</td>\n",
       "      <td>6</td>\n",
       "      <td>2</td>\n",
       "      <td>40.000000</td>\n",
       "      <td>37.840000</td>\n",
       "      <td>7.0</td>\n",
       "      <td>07.2017</td>\n",
       "      <td>15361_07.2017</td>\n",
       "      <td>1871.0</td>\n",
       "      <td>33.823677</td>\n",
       "      <td>63284.099785</td>\n",
       "      <td>0</td>\n",
       "      <td>1</td>\n",
       "      <td>0</td>\n",
       "    </tr>\n",
       "  </tbody>\n",
       "</table>\n",
       "</div>"
      ],
      "text/plain": [
       "                ID  CLIENT           DATA_TRANS  AZS_NUMBER  REGION_AZS  \\\n",
       "30352606  30352606   48189   11.12.2017 8:51:26         803           2   \n",
       "23169727  23169727   14331  06.10.2017 19:30:46        1746          19   \n",
       "17416208  17416208    9118  04.08.2017 19:55:27         736          18   \n",
       "26619021  26619021   35880  09.11.2017 10:07:40        1631          21   \n",
       "16423096  16423096   15361  24.07.2017 11:00:45         974           6   \n",
       "\n",
       "          VID_NP   COL_LITR  CENA_CLIENT  month     date    client_date  \\\n",
       "30352606       1  36.000000    38.349998   12.0  12.2017  48189_12.2017   \n",
       "23169727       1  30.000000    35.669998   10.0  10.2017  14331_10.2017   \n",
       "17416208       2  55.869999    35.080002    8.0  08.2017   9118_08.2017   \n",
       "26619021       2  20.000000    33.480000   11.0  11.2017  35880_11.2017   \n",
       "16423096       2  40.000000    37.840000    7.0  07.2017  15361_07.2017   \n",
       "\n",
       "          trans_count    ltr_mean  biz_estimated_ltr  biz_mass  biz_mid  \\\n",
       "30352606        157.0  113.183655       17769.833801         1        0   \n",
       "23169727        430.0   44.869381       19293.833809         1        0   \n",
       "17416208         12.0   57.156818         685.881821         1        0   \n",
       "26619021        744.0   15.481934       11518.558594         1        0   \n",
       "16423096       1871.0   33.823677       63284.099785         0        1   \n",
       "\n",
       "          biz_big  \n",
       "30352606        0  \n",
       "23169727        0  \n",
       "17416208        0  \n",
       "26619021        0  \n",
       "16423096        0  "
      ]
     },
     "execution_count": 11,
     "metadata": {},
     "output_type": "execute_result"
    }
   ],
   "source": [
    "train_sel.sample(5)"
   ]
  },
  {
   "cell_type": "code",
   "execution_count": 12,
   "metadata": {},
   "outputs": [
    {
     "data": {
      "text/html": [
       "<div>\n",
       "<style>\n",
       "    .dataframe thead tr:only-child th {\n",
       "        text-align: right;\n",
       "    }\n",
       "\n",
       "    .dataframe thead th {\n",
       "        text-align: left;\n",
       "    }\n",
       "\n",
       "    .dataframe tbody tr th {\n",
       "        vertical-align: top;\n",
       "    }\n",
       "</style>\n",
       "<table border=\"1\" class=\"dataframe\">\n",
       "  <thead>\n",
       "    <tr style=\"text-align: right;\">\n",
       "      <th></th>\n",
       "      <th>ID</th>\n",
       "      <th>CLIENT</th>\n",
       "      <th>DATA_TRANS</th>\n",
       "      <th>AZS_NUMBER</th>\n",
       "      <th>REGION_AZS</th>\n",
       "      <th>VID_NP</th>\n",
       "      <th>CENA_CLIENT</th>\n",
       "      <th>month</th>\n",
       "      <th>date</th>\n",
       "      <th>client_date</th>\n",
       "      <th>trans_count</th>\n",
       "      <th>ltr_mean</th>\n",
       "      <th>biz_estimated_ltr</th>\n",
       "      <th>biz_mass</th>\n",
       "      <th>biz_mid</th>\n",
       "      <th>biz_big</th>\n",
       "    </tr>\n",
       "  </thead>\n",
       "  <tbody>\n",
       "    <tr>\n",
       "      <th>69510</th>\n",
       "      <td>69510</td>\n",
       "      <td>4609</td>\n",
       "      <td>21.02.2018 15:45:06</td>\n",
       "      <td>1306</td>\n",
       "      <td>4</td>\n",
       "      <td>1</td>\n",
       "      <td>39.259998</td>\n",
       "      <td>2.0</td>\n",
       "      <td>02.2018</td>\n",
       "      <td>4609_02.2018</td>\n",
       "      <td>12390.0</td>\n",
       "      <td>34.799137</td>\n",
       "      <td>4.311613e+05</td>\n",
       "      <td>0</td>\n",
       "      <td>0</td>\n",
       "      <td>1</td>\n",
       "    </tr>\n",
       "    <tr>\n",
       "      <th>458463</th>\n",
       "      <td>458463</td>\n",
       "      <td>24593</td>\n",
       "      <td>15.02.2018 13:14:17</td>\n",
       "      <td>1644</td>\n",
       "      <td>4</td>\n",
       "      <td>1</td>\n",
       "      <td>36.470001</td>\n",
       "      <td>2.0</td>\n",
       "      <td>02.2018</td>\n",
       "      <td>24593_02.2018</td>\n",
       "      <td>2970.0</td>\n",
       "      <td>269.675140</td>\n",
       "      <td>8.009352e+05</td>\n",
       "      <td>0</td>\n",
       "      <td>0</td>\n",
       "      <td>1</td>\n",
       "    </tr>\n",
       "    <tr>\n",
       "      <th>189070</th>\n",
       "      <td>189070</td>\n",
       "      <td>9909</td>\n",
       "      <td>15.01.2018 6:29:37</td>\n",
       "      <td>1711</td>\n",
       "      <td>17</td>\n",
       "      <td>2</td>\n",
       "      <td>38.910000</td>\n",
       "      <td>1.0</td>\n",
       "      <td>01.2018</td>\n",
       "      <td>9909_01.2018</td>\n",
       "      <td>236.0</td>\n",
       "      <td>34.596436</td>\n",
       "      <td>8.164759e+03</td>\n",
       "      <td>1</td>\n",
       "      <td>0</td>\n",
       "      <td>0</td>\n",
       "    </tr>\n",
       "    <tr>\n",
       "      <th>399302</th>\n",
       "      <td>399302</td>\n",
       "      <td>30916</td>\n",
       "      <td>21.02.2018 1:06:33</td>\n",
       "      <td>1041</td>\n",
       "      <td>2</td>\n",
       "      <td>1</td>\n",
       "      <td>37.669998</td>\n",
       "      <td>2.0</td>\n",
       "      <td>02.2018</td>\n",
       "      <td>30916_02.2018</td>\n",
       "      <td>12143.0</td>\n",
       "      <td>189.093323</td>\n",
       "      <td>2.296160e+06</td>\n",
       "      <td>0</td>\n",
       "      <td>0</td>\n",
       "      <td>1</td>\n",
       "    </tr>\n",
       "    <tr>\n",
       "      <th>480690</th>\n",
       "      <td>480690</td>\n",
       "      <td>26441</td>\n",
       "      <td>12.03.2018 23:05:50</td>\n",
       "      <td>1417</td>\n",
       "      <td>14</td>\n",
       "      <td>2</td>\n",
       "      <td>33.669998</td>\n",
       "      <td>3.0</td>\n",
       "      <td>03.2018</td>\n",
       "      <td>26441_03.2018</td>\n",
       "      <td>1511.0</td>\n",
       "      <td>22.747156</td>\n",
       "      <td>3.437095e+04</td>\n",
       "      <td>1</td>\n",
       "      <td>0</td>\n",
       "      <td>0</td>\n",
       "    </tr>\n",
       "  </tbody>\n",
       "</table>\n",
       "</div>"
      ],
      "text/plain": [
       "            ID  CLIENT           DATA_TRANS  AZS_NUMBER  REGION_AZS  VID_NP  \\\n",
       "69510    69510    4609  21.02.2018 15:45:06        1306           4       1   \n",
       "458463  458463   24593  15.02.2018 13:14:17        1644           4       1   \n",
       "189070  189070    9909   15.01.2018 6:29:37        1711          17       2   \n",
       "399302  399302   30916   21.02.2018 1:06:33        1041           2       1   \n",
       "480690  480690   26441  12.03.2018 23:05:50        1417          14       2   \n",
       "\n",
       "        CENA_CLIENT  month     date    client_date  trans_count    ltr_mean  \\\n",
       "69510     39.259998    2.0  02.2018   4609_02.2018      12390.0   34.799137   \n",
       "458463    36.470001    2.0  02.2018  24593_02.2018       2970.0  269.675140   \n",
       "189070    38.910000    1.0  01.2018   9909_01.2018        236.0   34.596436   \n",
       "399302    37.669998    2.0  02.2018  30916_02.2018      12143.0  189.093323   \n",
       "480690    33.669998    3.0  03.2018  26441_03.2018       1511.0   22.747156   \n",
       "\n",
       "        biz_estimated_ltr  biz_mass  biz_mid  biz_big  \n",
       "69510        4.311613e+05         0        0        1  \n",
       "458463       8.009352e+05         0        0        1  \n",
       "189070       8.164759e+03         1        0        0  \n",
       "399302       2.296160e+06         0        0        1  \n",
       "480690       3.437095e+04         1        0        0  "
      ]
     },
     "execution_count": 12,
     "metadata": {},
     "output_type": "execute_result"
    }
   ],
   "source": [
    "test.sample(5)"
   ]
  },
  {
   "cell_type": "code",
   "execution_count": 13,
   "metadata": {
    "collapsed": true
   },
   "outputs": [],
   "source": [
    "cols = ['CLIENT','AZS_NUMBER','REGION_AZS','VID_NP','CENA_CLIENT','month','trans_count','biz_estimated_ltr','biz_mass','biz_mid','biz_big']"
   ]
  },
  {
   "cell_type": "code",
   "execution_count": 14,
   "metadata": {},
   "outputs": [
    {
     "data": {
      "text/plain": [
       "38"
      ]
     },
     "execution_count": 14,
     "metadata": {},
     "output_type": "execute_result"
    }
   ],
   "source": [
    "X_train = train_sel[cols]\n",
    "y = train_sel['COL_LITR']\n",
    "X_test = test[cols]\n",
    "\n",
    "del train, train_sel, test\n",
    "gc.collect() "
   ]
  },
  {
   "cell_type": "code",
   "execution_count": 15,
   "metadata": {
    "collapsed": true
   },
   "outputs": [],
   "source": [
    "import lightgbm"
   ]
  },
  {
   "cell_type": "code",
   "execution_count": 16,
   "metadata": {},
   "outputs": [
    {
     "name": "stdout",
     "output_type": "stream",
     "text": [
      "CPU times: user 10min 38s, sys: 6.18 s, total: 10min 45s\n",
      "Wall time: 3min 8s\n"
     ]
    }
   ],
   "source": [
    "%%time\n",
    "\n",
    "ctb = lightgbm.LGBMRegressor()\n",
    "ctb.fit(X_train, y)"
   ]
  },
  {
   "cell_type": "code",
   "execution_count": 17,
   "metadata": {},
   "outputs": [
    {
     "data": {
      "text/html": [
       "<div>\n",
       "<style>\n",
       "    .dataframe thead tr:only-child th {\n",
       "        text-align: right;\n",
       "    }\n",
       "\n",
       "    .dataframe thead th {\n",
       "        text-align: left;\n",
       "    }\n",
       "\n",
       "    .dataframe tbody tr th {\n",
       "        vertical-align: top;\n",
       "    }\n",
       "</style>\n",
       "<table border=\"1\" class=\"dataframe\">\n",
       "  <thead>\n",
       "    <tr style=\"text-align: right;\">\n",
       "      <th></th>\n",
       "      <th>0</th>\n",
       "    </tr>\n",
       "  </thead>\n",
       "  <tbody>\n",
       "    <tr>\n",
       "      <th>252</th>\n",
       "      <td>CLIENT</td>\n",
       "    </tr>\n",
       "    <tr>\n",
       "      <th>477</th>\n",
       "      <td>AZS_NUMBER</td>\n",
       "    </tr>\n",
       "    <tr>\n",
       "      <th>379</th>\n",
       "      <td>REGION_AZS</td>\n",
       "    </tr>\n",
       "    <tr>\n",
       "      <th>157</th>\n",
       "      <td>VID_NP</td>\n",
       "    </tr>\n",
       "    <tr>\n",
       "      <th>196</th>\n",
       "      <td>CENA_CLIENT</td>\n",
       "    </tr>\n",
       "    <tr>\n",
       "      <th>22</th>\n",
       "      <td>month</td>\n",
       "    </tr>\n",
       "    <tr>\n",
       "      <th>690</th>\n",
       "      <td>trans_count</td>\n",
       "    </tr>\n",
       "    <tr>\n",
       "      <th>818</th>\n",
       "      <td>biz_estimated_ltr</td>\n",
       "    </tr>\n",
       "    <tr>\n",
       "      <th>5</th>\n",
       "      <td>biz_mass</td>\n",
       "    </tr>\n",
       "    <tr>\n",
       "      <th>4</th>\n",
       "      <td>biz_mid</td>\n",
       "    </tr>\n",
       "    <tr>\n",
       "      <th>0</th>\n",
       "      <td>biz_big</td>\n",
       "    </tr>\n",
       "  </tbody>\n",
       "</table>\n",
       "</div>"
      ],
      "text/plain": [
       "                     0\n",
       "252             CLIENT\n",
       "477         AZS_NUMBER\n",
       "379         REGION_AZS\n",
       "157             VID_NP\n",
       "196        CENA_CLIENT\n",
       "22               month\n",
       "690        trans_count\n",
       "818  biz_estimated_ltr\n",
       "5             biz_mass\n",
       "4              biz_mid\n",
       "0              biz_big"
      ]
     },
     "execution_count": 17,
     "metadata": {},
     "output_type": "execute_result"
    }
   ],
   "source": [
    "pd.DataFrame(X_train.columns, ctb.feature_importances_)"
   ]
  },
  {
   "cell_type": "code",
   "execution_count": 18,
   "metadata": {
    "collapsed": true
   },
   "outputs": [],
   "source": [
    "y_test = ctb.predict(X_test)"
   ]
  },
  {
   "cell_type": "code",
   "execution_count": 19,
   "metadata": {},
   "outputs": [
    {
     "data": {
      "text/plain": [
       "(1000000,)"
      ]
     },
     "execution_count": 19,
     "metadata": {},
     "output_type": "execute_result"
    }
   ],
   "source": [
    "y_test.shape"
   ]
  },
  {
   "cell_type": "code",
   "execution_count": 20,
   "metadata": {},
   "outputs": [
    {
     "data": {
      "text/plain": [
       "(1000000, 11)"
      ]
     },
     "execution_count": 20,
     "metadata": {},
     "output_type": "execute_result"
    }
   ],
   "source": [
    "X_test.shape"
   ]
  },
  {
   "cell_type": "code",
   "execution_count": 21,
   "metadata": {
    "collapsed": true
   },
   "outputs": [],
   "source": [
    "sample_submission = pd.read_csv('datasets/gpn_b2b/sample_submission.csv')"
   ]
  },
  {
   "cell_type": "code",
   "execution_count": 23,
   "metadata": {},
   "outputs": [
    {
     "data": {
      "text/html": [
       "<div>\n",
       "<style>\n",
       "    .dataframe thead tr:only-child th {\n",
       "        text-align: right;\n",
       "    }\n",
       "\n",
       "    .dataframe thead th {\n",
       "        text-align: left;\n",
       "    }\n",
       "\n",
       "    .dataframe tbody tr th {\n",
       "        vertical-align: top;\n",
       "    }\n",
       "</style>\n",
       "<table border=\"1\" class=\"dataframe\">\n",
       "  <thead>\n",
       "    <tr style=\"text-align: right;\">\n",
       "      <th></th>\n",
       "      <th>ID</th>\n",
       "      <th>COL_LITR</th>\n",
       "    </tr>\n",
       "  </thead>\n",
       "  <tbody>\n",
       "    <tr>\n",
       "      <th>999995</th>\n",
       "      <td>999995</td>\n",
       "      <td>0.0</td>\n",
       "    </tr>\n",
       "    <tr>\n",
       "      <th>999996</th>\n",
       "      <td>999996</td>\n",
       "      <td>0.0</td>\n",
       "    </tr>\n",
       "    <tr>\n",
       "      <th>999997</th>\n",
       "      <td>999997</td>\n",
       "      <td>0.0</td>\n",
       "    </tr>\n",
       "    <tr>\n",
       "      <th>999998</th>\n",
       "      <td>999998</td>\n",
       "      <td>0.0</td>\n",
       "    </tr>\n",
       "    <tr>\n",
       "      <th>999999</th>\n",
       "      <td>999999</td>\n",
       "      <td>0.0</td>\n",
       "    </tr>\n",
       "  </tbody>\n",
       "</table>\n",
       "</div>"
      ],
      "text/plain": [
       "            ID  COL_LITR\n",
       "999995  999995       0.0\n",
       "999996  999996       0.0\n",
       "999997  999997       0.0\n",
       "999998  999998       0.0\n",
       "999999  999999       0.0"
      ]
     },
     "execution_count": 23,
     "metadata": {},
     "output_type": "execute_result"
    }
   ],
   "source": [
    "sample_submission.tail()"
   ]
  },
  {
   "cell_type": "code",
   "execution_count": 24,
   "metadata": {
    "collapsed": true
   },
   "outputs": [],
   "source": [
    "sample_submission['COL_LITR'] = y_test"
   ]
  },
  {
   "cell_type": "code",
   "execution_count": 25,
   "metadata": {},
   "outputs": [
    {
     "data": {
      "text/html": [
       "<div>\n",
       "<style>\n",
       "    .dataframe thead tr:only-child th {\n",
       "        text-align: right;\n",
       "    }\n",
       "\n",
       "    .dataframe thead th {\n",
       "        text-align: left;\n",
       "    }\n",
       "\n",
       "    .dataframe tbody tr th {\n",
       "        vertical-align: top;\n",
       "    }\n",
       "</style>\n",
       "<table border=\"1\" class=\"dataframe\">\n",
       "  <thead>\n",
       "    <tr style=\"text-align: right;\">\n",
       "      <th></th>\n",
       "      <th>ID</th>\n",
       "      <th>COL_LITR</th>\n",
       "    </tr>\n",
       "  </thead>\n",
       "  <tbody>\n",
       "    <tr>\n",
       "      <th>999995</th>\n",
       "      <td>999995</td>\n",
       "      <td>154.763564</td>\n",
       "    </tr>\n",
       "    <tr>\n",
       "      <th>999996</th>\n",
       "      <td>999996</td>\n",
       "      <td>185.467910</td>\n",
       "    </tr>\n",
       "    <tr>\n",
       "      <th>999997</th>\n",
       "      <td>999997</td>\n",
       "      <td>291.594827</td>\n",
       "    </tr>\n",
       "    <tr>\n",
       "      <th>999998</th>\n",
       "      <td>999998</td>\n",
       "      <td>41.274159</td>\n",
       "    </tr>\n",
       "    <tr>\n",
       "      <th>999999</th>\n",
       "      <td>999999</td>\n",
       "      <td>28.413629</td>\n",
       "    </tr>\n",
       "  </tbody>\n",
       "</table>\n",
       "</div>"
      ],
      "text/plain": [
       "            ID    COL_LITR\n",
       "999995  999995  154.763564\n",
       "999996  999996  185.467910\n",
       "999997  999997  291.594827\n",
       "999998  999998   41.274159\n",
       "999999  999999   28.413629"
      ]
     },
     "execution_count": 25,
     "metadata": {},
     "output_type": "execute_result"
    }
   ],
   "source": [
    "sample_submission.tail()"
   ]
  },
  {
   "cell_type": "code",
   "execution_count": 26,
   "metadata": {
    "collapsed": true
   },
   "outputs": [],
   "source": [
    "sample_submission.to_csv('gpn_b2b_allm.csv.gz', compression='gzip',  index=False)"
   ]
  },
  {
   "cell_type": "code",
   "execution_count": null,
   "metadata": {
    "collapsed": true
   },
   "outputs": [],
   "source": []
  }
 ],
 "metadata": {
  "kernelspec": {
   "display_name": "Python 3",
   "language": "python",
   "name": "python3"
  },
  "language_info": {
   "codemirror_mode": {
    "name": "ipython",
    "version": 3
   },
   "file_extension": ".py",
   "mimetype": "text/x-python",
   "name": "python",
   "nbconvert_exporter": "python",
   "pygments_lexer": "ipython3",
   "version": "3.6.3"
  }
 },
 "nbformat": 4,
 "nbformat_minor": 2
}
